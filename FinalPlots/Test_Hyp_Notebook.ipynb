{
 "cells": [
  {
   "cell_type": "code",
   "execution_count": 31,
   "id": "31c698ab",
   "metadata": {},
   "outputs": [
    {
     "name": "stdout",
     "output_type": "stream",
     "text": [
      "3.10.12 (main, Nov 20 2023, 15:14:05) [GCC 11.4.0]\n"
     ]
    }
   ],
   "source": [
    "import sys\n",
    "print(sys.version)\n",
    "import numpy as np\n",
    "import ROOT\n",
    "from array import *\n",
    "import matplotlib.pyplot as plt\n",
    "import math\n",
    "from scipy.optimize import brentq"
   ]
  },
  {
   "cell_type": "code",
   "execution_count": 32,
   "id": "57324830",
   "metadata": {},
   "outputs": [],
   "source": [
    "def resultsTOtxt(arr,  filename):\n",
    "#arr is the concatenated and transposed array of all the arrays wished to be written\n",
    "#arrDescription a string describing and is each collumn of the file\n",
    "#writes out each array concatenated in arr as an collumn in the file\n",
    "    file = open(filename, 'w')\n",
    "    np.savetxt(filename, arr, delimiter=' ')\n",
    "    file.close()"
   ]
  },
  {
   "cell_type": "code",
   "execution_count": 33,
   "id": "6aefafce-dbc2-443d-a829-a3fe7d25e975",
   "metadata": {},
   "outputs": [],
   "source": [
    "def ReadNuclearModelSamples():\n",
    "    fatm_hA_BR = ROOT.TFile.Open('/home/leoperes/ntuples_grid_newVertex/00a_newVertex/atm_hA_BR.root')\n",
    "    fbdm_m05_b1p1 = ROOT.TFile.Open('/home/leoperes/ntuples_grid_newVertex/00a_newVertex/bdm_m05_b1p1_00a.root')    \n",
    "    fbdm_m05_b1p5 = ROOT.TFile.Open('/home/leoperes/ntuples_grid_newVertex/00a_newVertex/bdm_m05_b1p5_00a.root')             \n",
    "    fbdm_m05_b10 = ROOT.TFile.Open('/home/leoperes/ntuples_grid_newVertex/00a_newVertex/bdm_m05_b10_00a.root')     \n",
    "    fbdm_m10_b1p1 = ROOT.TFile.Open('/home/leoperes/ntuples_grid_newVertex/00a_newVertex/bdm_m10_b1p1_00a.root')\n",
    "    fbdm_m10_b1p5 = ROOT.TFile.Open('/home/leoperes/ntuples_grid_newVertex/00a_newVertex/bdm_m10_b1p5_00a.root')\n",
    "    fbdm_m10_b10 = ROOT.TFile.Open('/home/leoperes/ntuples_grid_newVertex/00a_newVertex/bdm_m10_b10_00a.root')\n",
    "    fbdm_m20_b1p1 = ROOT.TFile.Open('/home/leoperes/ntuples_grid_newVertex/00a_newVertex/bdm_m20_b1p1_00a.root')\n",
    "    fbdm_m20_b1p5 = ROOT.TFile.Open('/home/leoperes/ntuples_grid_newVertex/00a_newVertex/bdm_m20_b1p5_00a.root')\n",
    "    fbdm_m20_b10 = ROOT.TFile.Open('/home/leoperes/ntuples_grid_newVertex/00a_newVertex/bdm_m20_b10_00a.root')\n",
    "    fbdm_m40_b1p1 = ROOT.TFile.Open('/home/leoperes/ntuples_grid_newVertex/00a_newVertex/bdm_m40_b1p1_00a.root')\n",
    "    fbdm_m40_b1p5 = ROOT.TFile.Open('/home/leoperes/ntuples_grid_newVertex/00a_newVertex/bdm_m40_b1p5_00a.root')\n",
    "    fbdm_m40_b10 = ROOT.TFile.Open('/home/leoperes/ntuples_grid_newVertex/00a_newVertex/bdm_m40_b10_00a.root')\n",
    "    samples = [fatm_hA_BR, fbdm_m05_b1p1, fbdm_m05_b1p5, fbdm_m05_b10, fbdm_m10_b1p1, fbdm_m10_b1p5, fbdm_m10_b10, fbdm_m20_b1p1, fbdm_m20_b1p5, fbdm_m20_b10, fbdm_m40_b1p1, fbdm_m40_b1p5, fbdm_m40_b10]\n",
    "    return samples\n"
   ]
  },
  {
   "cell_type": "code",
   "execution_count": 34,
   "id": "416dd412",
   "metadata": {},
   "outputs": [],
   "source": [
    "def GetNpArraysFromTrees(tree, branch_name):\n",
    "    estimate = 3e6 #amount of numbers getting from branch\n",
    "    tree.SetEstimate(int(estimate))\n",
    "    result_hist = tree.Draw(branch_name, \"\", \"goff\")\n",
    "    result = np.asarray(np.frombuffer(tree.GetV1(), dtype=np.float64, count=result_hist))\n",
    "    result = result.copy()\n",
    "    return result\n",
    "def GetNpArraysFromTrees2(tree, branch_name):\n",
    "    estimate = 3e8 #amount of numbers getting from branch\n",
    "    tree.SetEstimate(int(estimate))\n",
    "    result_hist = tree.Draw(branch_name, \"\", \"goff\")\n",
    "    result = np.asarray(np.frombuffer(tree.GetV1(), count=result_hist))\n",
    "    result = result.copy()\n",
    "    return result"
   ]
  },
  {
   "cell_type": "code",
   "execution_count": 35,
   "id": "a484bac6",
   "metadata": {},
   "outputs": [],
   "source": [
    "def CVNCut(CVN_CutProb,CVN_SignalReco,CVN_Bg,CosSun_SignalValidCVN,AtmNuCosSun):\n",
    "    nSignalEvents = 0 \n",
    "    nBGEvents = 0\n",
    "    EventsSignalCut = CVN_SignalReco[CVN_SignalReco > CVN_CutProb]\n",
    "    EventsBgCut = CVN_Bg[CVN_Bg > CVN_CutProb] \n",
    "    CosSunSignal_CVNCut = CosSun_SignalValidCVN[CVN_SignalReco > CVN_CutProb]\n",
    "    CosSunBgCVNCut = AtmNuCosSun[CVN_Bg > CVN_CutProb]\n",
    "    return CosSunSignal_CVNCut, CosSunBgCVNCut, EventsSignalCut, EventsBgCut"
   ]
  },
  {
   "cell_type": "code",
   "execution_count": 36,
   "id": "c8b9dca3",
   "metadata": {},
   "outputs": [],
   "source": [
    "def AngularCutBothSides(CVNScore_NC, nSignalSimulatedEvts): \n",
    "    \n",
    "    results = []\n",
    "    SprimeMin = 999999999\n",
    "    bestCutRight = 9999\n",
    "    bestCutLeft = 9999\n",
    "    bestEff = 9999\n",
    "    bestBkg = 9999\n",
    "    bestBkgErr = 999\n",
    "    Sprime = 999\n",
    "    CosSunSignal = []\n",
    "    CosSunAtm = []\n",
    "    \n",
    "    CosSunSignalCVNCut, CosSunBgCVNCut, SignalEvts, BgEvts = CVNCut(CVNScore_NC, CVN_Signal, CVN_Atm, CosSun_Signal, CosSun_Atm)\n",
    "    \n",
    "    BackgroundScale = 4 * 10 * RatioRecoAtm *2235.8 /nSimulatedEvtsAll_atm\n",
    "    # = 40kt * 10 years * reco/simulated ratio * # atm nu expected for 10kt y * inside/out cvn cut ratio / #simulated atm nu events \n",
    "\n",
    "    CosCutsToRight = np.linspace(0.5,1.00,40)\n",
    "    CosCutsToLeft = np.linspace(0.5,-1.00,40)\n",
    "    \n",
    "    CosSunEvts = CosSunSignalCVNCut\n",
    "    CosSunAtmEvts = CosSunBgCVNCut\n",
    "    for CosCutRight in CosCutsToRight:\n",
    "\n",
    "        for CosCutLeft in CosCutsToLeft:\n",
    "            nReco = 0.0001\n",
    "            nBG = 0.00001\n",
    "            nRecoToTheRight = np.sum(CosCutRight < CosSunEvts)\n",
    "            nRecoToTheLeft = np.sum(CosCutLeft > CosSunEvts)\n",
    "            nReco = nRecoToTheRight + nRecoToTheLeft\n",
    "            \n",
    "            nBGToTheRight = np.sum(CosCutRight < CosSunAtmEvts)\n",
    "            nBGToTheLeft = np.sum(CosCutLeft > CosSunAtmEvts)\n",
    "            nBG = nBGToTheRight + nBGToTheLeft\n",
    "            \n",
    "            rReco = nReco/nSignalSimulatedEvts  \n",
    "            bEvents = nBG*BackgroundScale\n",
    "            \n",
    "            #print(rReco,nReco,nSignalSimulatedEvts)\n",
    "            Sprime = 25./ (2.*rReco) + math.sqrt( 25.*bEvents/ (rReco*rReco) + 625./(4.*rReco*rReco) )\n",
    "            \n",
    "            if Sprime < SprimeMin:\n",
    "                SprimeMin = Sprime\n",
    "                bestCutRight = CosCutRight\n",
    "                bestCutLeft = CosCutLeft\n",
    "                bestEff = rReco\n",
    "                bestBkg = bEvents\n",
    "                bestBkgErr = math.sqrt(nBG *BackgroundScale)\n",
    "                BestCVNCut = CVNScore_NC\n",
    "                CosSunSignal = CosSunEvts\n",
    "                CosSunAtm = CosSunAtmEvts\n",
    "    results = [SprimeMin, bestCutLeft, bestCutRight, bestEff, bestBkg, bestBkgErr, CVNScore_NC, CosSunEvts, CosSunAtmEvts]\n",
    "    return results\n",
    "\n"
   ]
  },
  {
   "cell_type": "code",
   "execution_count": 37,
   "id": "45d7c1fa-2810-4f6e-ae1b-bd6db4033d81",
   "metadata": {},
   "outputs": [],
   "source": [
    "infiles_list = ReadNuclearModelSamples()\n",
    "for SAMPLE_INDEX in range(0,len(infiles_list)):\n",
    "    intrees_reco = [lambda arg=infile: arg.Get(\"ana/Atm\") for infile in infiles_list]\n",
    "    intrees_simu = [lambda arg=infile: arg.Get(\"ana/AllEvents\") for infile in infiles_list]\n",
    "    reco_entries = [intree().GetEntries() for intree in intrees_reco]\n",
    "    simu_entries = [intree().GetEntries() for intree in intrees_simu]"
   ]
  },
  {
   "cell_type": "code",
   "execution_count": 38,
   "id": "188b3c62-e37c-4b7c-a0d2-97f0d928fac4",
   "metadata": {},
   "outputs": [
    {
     "data": {
      "image/png": "[encoded data removed]",
      "text/plain": [
       "<Figure size 640x480 with 1 Axes>"
      ]
     },
     "metadata": {},
     "output_type": "display_data"
    }
   ],
   "source": [
    "### Atmospheric neutrinos Angular Reconstruction w.r.t Sun\n",
    "TotalMomRecoRangeUnitVect_Reco = GetNpArraysFromTrees2(intrees_reco[0](),\" TotalMomRecoRangeUnitVect\")\n",
    "nSimulatedEvtsReco_atm = reco_entries[0]\n",
    "Reco_mom_Nu = np.reshape(TotalMomRecoRangeUnitVect_Reco, (nSimulatedEvtsReco_atm,3))\n",
    "Sun_Positions = np.loadtxt('../../newSyst/background_sun_pos.dat', delimiter='\\t', usecols=(0,1,2))\n",
    "\n",
    "hist_cos_reco = []\n",
    "for index, atmevt in enumerate(Reco_mom_Nu):\n",
    "    indices = np.random.randint(0, len(Sun_Positions), size=1)\n",
    "    # Use the sampled indices to select elements from the array\n",
    "    sample_sunpos = Sun_Positions[indices]\n",
    "    for sunpos in sample_sunpos:\n",
    "        hist_cos_reco.append(np.sum(atmevt*sunpos))\n",
    "\n",
    "plt.figure(dpi=100)\n",
    "plt.hist(hist_cos_reco, bins = 20,histtype = 'step')\n",
    "#plt.title(f'index number evt: {index}')\n",
    "plt.ylabel('Number of Events')\n",
    "plt.xlabel(r'$cos(\\theta_{Sun, Reco})$',fontsize = 17)\n",
    "plt.show()\n"
   ]
  },
  {
   "cell_type": "code",
   "execution_count": 39,
   "id": "7dd4c202",
   "metadata": {},
   "outputs": [
    {
     "data": {
      "text/plain": [
       "66"
      ]
     },
     "execution_count": 39,
     "metadata": {},
     "output_type": "execute_result"
    }
   ],
   "source": [
    "nSimulatedEvtsAll_atm = simu_entries[0]\n",
    "RatioRecoAtm = nSimulatedEvtsReco_atm/nSimulatedEvtsAll_atm\n",
    "\n",
    "CVN_Atm = GetNpArraysFromTrees(intrees_reco[0](),\"CVN_NCScore\")\n",
    "CosSun_Atm = np.array(hist_cos_reco)\n",
    "CVN_Atm[CVN_Atm==-1] = 1.\n",
    "\n",
    "\n",
    "Sensitivity_Info = open(\"Sensitivity_Info_00a.txt\", \"a\")\n",
    "Sensitivity_results = open(\"Sensitivity_results_00a.txt\",\"a\")\n",
    "Eff_Bkg_index =open(\"Eff_Bkg_index_00a.txt\",\"a\")\n",
    "CVN_Cuts = np.linspace(0.2,1.00,35)\n",
    "\n",
    "Sensitivity_Info.write(\"################# SAMPLE INFO #######################\"+\"\\n\")\n",
    "Sensitivity_Info.write(\"\\n\")\n",
    "Sensitivity_Info.write(\"Number of Atmospheric Neutrinos Events Simulated: \" +str(nSimulatedEvtsAll_atm)+\"\\n\")\n",
    "Sensitivity_Info.write(\"Number of Atmospheric Neutrinos Events Reconstructed: \" +str(nSimulatedEvtsReco_atm)+\"\\n\")\n",
    "Sensitivity_Info.write(\"Ratio of Atmospheric Neutrinos Events Reconstructed: \" +str(nSimulatedEvtsReco_atm/nSimulatedEvtsAll_atm)+\"\\n\")\n",
    "Sensitivity_Info.write(\"\\n\")\n",
    "\n",
    "resultsTOtxt(CVN_Atm, 'CVN_Atm_hA_BR.txt')\n",
    "resultsTOtxt(CosSun_Atm, 'CosSun_Atm_hA_BR.txt')\n",
    "\n",
    "Eff_Bkg_index.write(\"SigStrength\\tNegCosCut\\tPosCosCut\\tbestEff\\tBkgExpect\\tBkgError\\tCVNCut\\n\")\n"
   ]
  },
  {
   "cell_type": "code",
   "execution_count": null,
   "id": "ab8b6673",
   "metadata": {},
   "outputs": [
    {
     "name": "stderr",
     "output_type": "stream",
     "text": [
      "/tmp/ipykernel_32234/2193226785.py:41: RuntimeWarning: divide by zero encountered in scalar divide\n",
      "  Sprime = 25./ (2.*rReco) + math.sqrt( 25.*bEvents/ (rReco*rReco) + 625./(4.*rReco*rReco) )\n",
      "/tmp/ipykernel_32234/2193226785.py:41: RuntimeWarning: invalid value encountered in scalar divide\n",
      "  Sprime = 25./ (2.*rReco) + math.sqrt( 25.*bEvents/ (rReco*rReco) + 625./(4.*rReco*rReco) )\n"
     ]
    }
   ],
   "source": [
    "for index, sig_tree in enumerate(intrees_reco[1:]):\n",
    "    \n",
    "    CVN_Signal = GetNpArraysFromTrees(sig_tree(),\"CVN_NCScore\")\n",
    "    CosSun_Signal = GetNpArraysFromTrees(sig_tree(),\"DiffCosAngleTotalMom\")\n",
    "    \n",
    "    bestResultsTwoAngCuts = []\n",
    "    SpMinTwoAngCuts = 99999999.9\n",
    "    bestCVNCutTwoCut = -3\n",
    "\n",
    "    Sensitivity_Info.write(\"Sample: \"+str(sig_tree().GetCurrentFile().GetName()[28:-5])+\"\\n\")\n",
    "    Sensitivity_Info.write(\"Number of Boosted DM Events Simulated: \" +str(simu_entries[index])+\"\\n\")\n",
    "    Sensitivity_Info.write(\"Number of Boosted DM Events Reconstructed: \" + str(reco_entries[index])+\"\\n\")\n",
    "    Sensitivity_Info.write(\"Ratio of Boosted DM Events Reconstructed: \" +str(float(reco_entries[index])/simu_entries[index])+\"\\n\")\n",
    "    Sensitivity_Info.write(\"\\n\")\n",
    "\n",
    "    Sensitivity_results.write(\"Sample: \"+str(sig_tree().GetCurrentFile().GetName()[28:-5])+\"\\n\")\n",
    "    Sensitivity_results.write(\"SigStrength\\tNegCosCut\\tPosCosCut\\tbestEff\\tBkgExpect\\tBkgError\\tCVNCut\\tBDTCut\\n\")\n",
    "    for CVNScore in CVN_Cuts:\n",
    "        resultsTwoAngCuts = AngularCutBothSides(CVNScore, simu_entries[index])\n",
    "        if resultsTwoAngCuts[0] < SpMinTwoAngCuts:\n",
    "            bestResultsTwoAngCuts = resultsTwoAngCuts\n",
    "            bestCVNCutTwoCut = CVNScore\n",
    "            SpMinTwoAngCuts = resultsTwoAngCuts[0]\n",
    "                \n",
    "            Sensitivity_results.write(str(bestResultsTwoAngCuts[0])+\"\\t\"+str(bestResultsTwoAngCuts[1])+\"\\t\"+str(bestResultsTwoAngCuts[2])+\"\\t\"+str(bestResultsTwoAngCuts[3])+\"\\t\"+str(bestResultsTwoAngCuts[4])+\"\\t\"+str(bestResultsTwoAngCuts[5])+\"\\t\"+str(bestResultsTwoAngCuts[6])+\"\\n\")\n",
    "                \n",
    "\n",
    "    Sensitivity_results.write(str(\" ======= BEST CUTS ========\")+\"\\n\")\n",
    "    Sensitivity_results.write(str(bestResultsTwoAngCuts[0])+\"\\t\"+str(bestResultsTwoAngCuts[1])+\"\\t\"+str(bestResultsTwoAngCuts[2])+\"\\t\"+str(bestResultsTwoAngCuts[3])+\"\\t\"+str(bestResultsTwoAngCuts[4])+\"\\t\"+str(bestResultsTwoAngCuts[5])+\"\\t\"+str(bestResultsTwoAngCuts[6])+\"\\n\")   \n",
    "    np.savetxt(Eff_Bkg_index, np.array(bestResultsTwoAngCuts[0:7]).flatten(), fmt=\"%.3f\", newline = \" \",delimiter=', ')\n",
    "    Eff_Bkg_index.write(\"\\n\")\n",
    "    Sensitivity_results.write(\"\\n\")\n",
    "    print('\\n')\n",
    "    print(index)\n",
    "    print(\"################# BEST ANGULAR AND CVN CUTS INFO #######################\")\n",
    "    print(\"Optimal Signal Strength: \" + '{:.0f}'.format(bestResultsTwoAngCuts[0]))\n",
    "    print(\"Optimal CVN Cut: \" +'{:.3f}'.format(bestResultsTwoAngCuts[6]))\n",
    "    print(\"Optimal BDT Cut: \" +'{:.3f}'.format(bestResultsTwoAngCuts[7]))\n",
    "    print(\"Optimal Positive Cossine Angular Cut: \"  + '{:.3f}'.format(bestResultsTwoAngCuts[2]))\n",
    "    print(\"Optimal Negative Cossine Angular Cut: \" +  '{:.3f}'.format(bestResultsTwoAngCuts[1]))\n",
    "    print(\"Signal Efficiency: \" + '{:.3f}'.format(bestResultsTwoAngCuts[3]))\n",
    "    print(\"\")\n",
    "    print(\"Number of expected Atm Nu events: \" + '{:.1f}'.format(bestResultsTwoAngCuts[4]) + \", statistical uncertainty: \" + '{:.1f}'.format(bestResultsTwoAngCuts[5]))\n",
    "    print('\\n')\n",
    "    #h.write('{:.3f}'.format(bestResultsTwoAngCuts[3]),'{:.3f}'.format(bestResultsTwoAngCuts[4]),'{:.1d}'.format(index))\n",
    "   \n",
    "    resultsTOtxt(bestResultsTwoAngCuts[7], 'CosSunSignalAfterCuts_'+'{:.20s}'.format(SamplesNameList[index])+'.txt')\n",
    "    resultsTOtxt(bestResultsTwoAngCuts[8], 'CosSunAtmAfterCuts_'+'{:.20s}'.format(SamplesNameList[index])+'.txt')\n",
    "    resultsTOtxt(CVN_Signal, 'CVN_'+'{:.20s}'.format(SamplesNameList[index])+'.txt')\n",
    "    resultsTOtxt(CosSun_Signal, 'CosSun_'+'{:.20s}'.format(SamplesNameList[index])+'.txt')"
   ]
  },
  {
   "cell_type": "code",
   "execution_count": 29,
   "id": "5a66ac08",
   "metadata": {},
   "outputs": [],
   "source": [
    "Sensitivity_Info.close()\n",
    "Sensitivity_results.close()\n",
    "Eff_Bkg_index.close()"
   ]
  },
  {
   "cell_type": "code",
   "execution_count": null,
   "id": "35dfc5be",
   "metadata": {},
   "outputs": [],
   "source": []
  }
 ],
 "metadata": {
  "kernelspec": {
   "display_name": "Python 3 (ipykernel)",
   "language": "python",
   "name": "python3"
  },
  "language_info": {
   "codemirror_mode": {
    "name": "ipython",
    "version": 3
   },
   "file_extension": ".py",
   "mimetype": "text/x-python",
   "name": "python",
   "nbconvert_exporter": "python",
   "pygments_lexer": "ipython3",
   "version": "3.10.12"
  }
 },
 "nbformat": 4,
 "nbformat_minor": 5
}
