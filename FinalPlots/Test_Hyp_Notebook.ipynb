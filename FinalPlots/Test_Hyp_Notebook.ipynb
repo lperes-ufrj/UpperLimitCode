{
 "cells": [
  {
   "cell_type": "code",
   "execution_count": 1,
   "id": "31c698ab",
   "metadata": {},
   "outputs": [
    {
     "name": "stdout",
     "output_type": "stream",
     "text": [
      "3.10.12 (main, Nov 20 2023, 15:14:05) [GCC 11.4.0]\n",
      "Welcome to JupyROOT 6.30/04\n"
     ]
    }
   ],
   "source": [
    "import sys\n",
    "print(sys.version)\n",
    "import numpy as np\n",
    "import ROOT\n",
    "from array import *\n",
    "import matplotlib.pyplot as plt\n",
    "import math\n",
    "from scipy.optimize import brentq"
   ]
  },
  {
   "cell_type": "code",
   "execution_count": 2,
   "id": "57324830",
   "metadata": {},
   "outputs": [],
   "source": [
    "def resultsTOtxt(arr,  filename):\n",
    "#arr is the concatenated and transposed array of all the arrays wished to be written\n",
    "#arrDescription a string describing and is each collumn of the file\n",
    "#writes out each array concatenated in arr as an collumn in the file\n",
    "    file = open(filename, 'w')\n",
    "    np.savetxt(filename, arr, delimiter=' ')\n",
    "    file.close()"
   ]
  },
  {
   "cell_type": "code",
   "execution_count": 3,
   "id": "6aefafce-dbc2-443d-a829-a3fe7d25e975",
   "metadata": {},
   "outputs": [],
   "source": [
    "def ReadNuclearModelSamples():\n",
    "    fatm_hA_BR = ROOT.TFile.Open('/home/leoperes/ntuples_grid_newVertex/atm_hA_BR.root')\n",
    "    fbdm_m05_b1p1 = ROOT.TFile.Open('/home/leoperes/ntuples_grid_newVertex/bdm_m05_b1p1_00a.root')    \n",
    "    fbdm_m05_b1p5 = ROOT.TFile.Open('/home/leoperes/ntuples_grid_newVertex/bdm_m05_b1p5_00a.root')             \n",
    "    fbdm_m05_b10 = ROOT.TFile.Open('/home/leoperes/ntuples_grid_newVertex/bdm_m05_b10_00a.root')     \n",
    "    fbdm_m10_b1p1 = ROOT.TFile.Open('/home/leoperes/ntuples_grid_newVertex/bdm_m10_b1p1_00a.root')\n",
    "    fbdm_m10_b1p5 = ROOT.TFile.Open('/home/leoperes/ntuples_grid_newVertex/bdm_m10_b1p5_00a.root')\n",
    "    fbdm_m10_b10 = ROOT.TFile.Open('/home/leoperes/ntuples_grid_newVertex/bdm_m10_b10_00a.root')\n",
    "    fbdm_m20_b1p1 = ROOT.TFile.Open('/home/leoperes/ntuples_grid_newVertex/bdm_m20_b1p1_00a.root')\n",
    "    fbdm_m20_b1p5 = ROOT.TFile.Open('/home/leoperes/ntuples_grid_newVertex/bdm_m20_b1p5_00a.root')\n",
    "    fbdm_m20_b10 = ROOT.TFile.Open('/home/leoperes/ntuples_grid_newVertex/bdm_m20_b10_00a.root')\n",
    "    fbdm_m40_b1p1 = ROOT.TFile.Open('/home/leoperes/ntuples_grid_newVertex/bdm_m40_b1p1_00a.root')\n",
    "    fbdm_m40_b1p5 = ROOT.TFile.Open('/home/leoperes/ntuples_grid_newVertex/bdm_m40_b1p5_00a.root')\n",
    "    fbdm_m40_b10 = ROOT.TFile.Open('/home/leoperes/ntuples_grid_newVertex/bdm_m40_b10_00a.root')\n",
    "    samples = [fbdm_m05_b1p1, fbdm_m05_b1p5, fbdm_m05_b10, fbdm_m10_b1p1, fbdm_m10_b1p5, fbdm_m10_b10, fbdm_m20_b1p1, fbdm_m20_b1p5, fbdm_m20_b10, fbdm_m40_b1p1, fbdm_m40_b1p5, fbdm_m40_b10]\n",
    "    return samples\n"
   ]
  },
  {
   "cell_type": "code",
   "execution_count": 16,
   "id": "416dd412",
   "metadata": {},
   "outputs": [],
   "source": [
    "def GetNpArraysFromTrees(tree, branch_name):\n",
    "    estimate = 3e6 #amount of numbers getting from branch\n",
    "    tree.SetEstimate(int(estimate))\n",
    "    result_hist = tree.Draw(branch_name, \"\", \"goff\")\n",
    "    result = np.asarray(np.frombuffer(tree.GetV1(), dtype=np.float64, count=result_hist))\n",
    "    result = result.copy()\n",
    "    return result"
   ]
  },
  {
   "cell_type": "code",
   "execution_count": 17,
   "id": "a484bac6",
   "metadata": {},
   "outputs": [],
   "source": [
    "def CVNCut(CVN_CutProb,CVN_SignalReco,CVN_Bg,CosSun_SignalValidCVN,AtmNuCosSun):\n",
    "    nSignalEvents = 0 \n",
    "    nBGEvents = 0\n",
    "    EventsSignalCut = CVN_SignalReco[CVN_SignalReco > CVN_CutProb]\n",
    "    EventsBgCut = CVN_Bg[CVN_Bg > CVN_CutProb] \n",
    "    CosSunSignal_CVNCut = CosSun_SignalValidCVN[CVN_SignalReco > CVN_CutProb]\n",
    "    CosSunBgCVNCut = AtmNuCosSun[CVN_Bg > CVN_CutProb]\n",
    "    return CosSunSignal_CVNCut, CosSunBgCVNCut, EventsSignalCut, EventsBgCut"
   ]
  },
  {
   "cell_type": "code",
   "execution_count": 19,
   "id": "c8b9dca3",
   "metadata": {},
   "outputs": [],
   "source": [
    "def AngularCutBothSides(CVNScore_NC,BDTScore, nSignalSimulatedEvts): \n",
    "    \n",
    "    results = []\n",
    "    SprimeMin = 999999999\n",
    "    bestCutRight = 9999\n",
    "    bestCutLeft = 9999\n",
    "    bestEff = 9999\n",
    "    bestBkg = 9999\n",
    "    bestBkgErr = 999\n",
    "    Sprime = 999\n",
    "    CosSunSignal = []\n",
    "    CosSunAtm = []\n",
    "    \n",
    "    CosSunSignalCVNCut, CosSunBgCVNCut, SignalEvts, BgEvts = CVNCut(CVNScore_NC, CVN_Signal_Valid, CVN_Atm_Valid, CosSun_Signal_wCVN, CosSun_Atm_wCVN)\n",
    "    \n",
    "    BackgroundScale = 4 * 10 * RatioRecoAtm *2235.8 /nSimulatedEvtsAll_atm\n",
    "    # = 40kt * 10 years * reco/simulated ratio * # atm nu expected for 10kt y * inside/out cvn cut ratio / #simulated atm nu events \n",
    "\n",
    "    CosCutsToRight = np.linspace(0,1.00,40)\n",
    "    CosCutsToLeft = np.linspace(0,-1.00,40)\n",
    "    \n",
    "    CosSunEvts = np.concatenate((CosSunSignalBDTCut,CosSunSignalCVNCut), axis=0)\n",
    "    CosSunAtmEvts = np.concatenate((CosSunAtmBDTCut, CosSunBgCVNCut), axis=0)\n",
    "    for CosCutRight in CosCutsToRight:\n",
    "\n",
    "        for CosCutLeft in CosCutsToLeft:\n",
    "            nReco = 0.0001\n",
    "            nBG = 0.00001\n",
    "            nRecoToTheRight = np.sum(CosCutRight < CosSunEvts)\n",
    "            nRecoToTheLeft = np.sum(CosCutLeft > CosSunEvts)\n",
    "            nReco = nRecoToTheRight + nRecoToTheLeft\n",
    "            \n",
    "            nBGToTheRight = np.sum(CosCutRight < CosSunAtmEvts)\n",
    "            nBGToTheLeft = np.sum(CosCutLeft > CosSunAtmEvts)\n",
    "            nBG = nBGToTheRight + nBGToTheLeft\n",
    "            \n",
    "            rReco = nReco/nSignalSimulatedEvts  \n",
    "            bEvents = nBG*BackgroundScale\n",
    "            \n",
    "            #print(rReco,nReco,nSignalSimulatedEvts)\n",
    "            Sprime = 25./ (2.*rReco) + math.sqrt( 25.*bEvents/ (rReco*rReco) + 625./(4.*rReco*rReco) )\n",
    "            \n",
    "            if Sprime < SprimeMin:\n",
    "                SprimeMin = Sprime\n",
    "                bestCutRight = CosCutRight\n",
    "                bestCutLeft = CosCutLeft\n",
    "                bestEff = rReco\n",
    "                bestBkg = bEvents\n",
    "                bestBkgErr = math.sqrt( nBG *BackgroundScale)\n",
    "                BestCVNCut = CVNScore_NC\n",
    "                BestBDTCut = BDTScore\n",
    "                CosSunSignal = CosSunEvts\n",
    "                CosSunAtm = CosSunAtmEvts\n",
    "    results = [SprimeMin, bestCutLeft, bestCutRight, bestEff, bestBkg, bestBkgErr, CVNScore_NC, BDTScore, CosSunEvts, CosSunAtmEvts]\n",
    "    return results\n",
    "\n"
   ]
  },
  {
   "cell_type": "code",
   "execution_count": null,
   "id": "45d7c1fa-2810-4f6e-ae1b-bd6db4033d81",
   "metadata": {},
   "outputs": [],
   "source": [
    "infiles_list = ReadNuclearModelSamples()\n",
    "for SAMPLE_INDEX in range(0,len(infiles_list)):\n",
    "    intrees_reco = [lambda arg=infile: arg.Get(\"ana/Atm\") for infile in infiles_list]\n",
    "    intrees_simu = [lambda arg=infile: arg.Get(\"ana/AllEvents\") for infile in infiles_list]\n",
    "    reco_entries = [intree().GetEntries() for intree in intrees_reco]\n",
    "    simu_entries = [intree().GetEntries() for intree in intrees_simu]"
   ]
  },
  {
   "cell_type": "code",
   "execution_count": 20,
   "id": "7dd4c202",
   "metadata": {},
   "outputs": [
    {
     "data": {
      "text/plain": [
       "73"
      ]
     },
     "execution_count": 20,
     "metadata": {},
     "output_type": "execute_result"
    },
    {
     "name": "stdout",
     "output_type": "stream",
     "text": [
      "                         : Booking \"TMVAClassification\" of type \"BDT\" from /home/leoperes/Dropbox/BoostedDM/Final_Analysis/dataset_v02/weights/TMVAClassification_BDTAtmCCNC.weights.xml.\n",
      "                         : Reading weight file: /home/leoperes/Dropbox/BoostedDM/Final_Analysis/dataset_v02/weights/TMVAClassification_BDTAtmCCNC.weights.xml\n",
      "<HEADER> DataSetInfo              : [Default] : Added class \"Signal\"\n",
      "<HEADER> DataSetInfo              : [Default] : Added class \"Background\"\n",
      "                         : Booked classifier \"BDTAtmCCNC\" of type: \"BDT\"\n",
      "                         : Rebuilding Dataset Default\n"
     ]
    }
   ],
   "source": [
    "CVN_Atm = GetNpArraysFromTrees(fTree_atm,\"CVN_NCScore\")\n",
    "CosSun_Atm = 2*np.random.random_sample((nSimulatedEvtsReco_atm,))-1\n",
    "\n",
    "CVN_Atm[CVN_Atm==-1] = 1.\n",
    "\n",
    "\n",
    "Sensitivity_Info = open(\"Sensitivity_Info_00a.txt\", \"a\")\n",
    "Sensitivity_results = open(\"Sensitivity_results_00a.txt\",\"a\")\n",
    "Eff_Bkg_index =open(\"Eff_Bkg_index_00a.txt\",\"a\")\n",
    "CVN_Cuts = np.linspace(0.2,1.00,35)\n",
    "\n",
    "index = 0\n",
    "\n",
    "Sensitivity_Info.write(\"################# SAMPLE INFO #######################\"+\"\\n\")\n",
    "Sensitivity_Info.write(\"\\n\")\n",
    "Sensitivity_Info.write(\"Number of Atmospheric Neutrinos Events Simulated: \" +str(nSimulatedEvtsAll_atm)+\"\\n\")\n",
    "Sensitivity_Info.write(\"Number of Atmospheric Neutrinos Events Reconstructed: \" +str(nSimulatedEvtsReco_atm)+\"\\n\")\n",
    "Sensitivity_Info.write(\"Ratio of Atmospheric Neutrinos Events Reconstructed: \" +str(RatioRecoAtm)+\"\\n\")\n",
    "Sensitivity_Info.write(\"\\n\")\n",
    "\n",
    "resultsTOtxt(CVN_Atm, 'CVN_Atm_hA_BR.txt')\n",
    "resultsTOtxt(CosSun_Atm, 'CosSun_Atm_hA_BR.txt')\n",
    "\n",
    "Eff_Bkg_index.write(\"SigStrength\\tNegCosCut\\tPosCosCut\\tbestEff\\tBkgExpect\\tBkgError\\tCVNCut\\tBDTCut\\n\")\n"
   ]
  },
  {
   "cell_type": "code",
   "execution_count": 23,
   "id": "ab8b6673",
   "metadata": {},
   "outputs": [
    {
     "ename": "ValueError",
     "evalue": "I/O operation on closed file.",
     "output_type": "error",
     "traceback": [
      "\u001b[0;31m---------------------------------------------------------------------------\u001b[0m",
      "\u001b[0;31mValueError\u001b[0m                                Traceback (most recent call last)",
      "\u001b[1;32m/home/leoperes/Dropbox/BoostedDM/Final_Analysis/newVertex_v02/Test_Hyp_Notebook.ipynb Cell 10\u001b[0m in \u001b[0;36m1\n\u001b[1;32m     <a href='vscode-notebook-cell:/home/leoperes/Dropbox/BoostedDM/Final_Analysis/newVertex_v02/Test_Hyp_Notebook.ipynb#X12sZmlsZQ%3D%3D?line=11'>12</a>\u001b[0m SpMinTwoAngCuts \u001b[39m=\u001b[39m \u001b[39m99999999.9\u001b[39m\n\u001b[1;32m     <a href='vscode-notebook-cell:/home/leoperes/Dropbox/BoostedDM/Final_Analysis/newVertex_v02/Test_Hyp_Notebook.ipynb#X12sZmlsZQ%3D%3D?line=12'>13</a>\u001b[0m bestCVNCutTwoCut \u001b[39m=\u001b[39m \u001b[39m-\u001b[39m\u001b[39m3\u001b[39m\n\u001b[0;32m---> <a href='vscode-notebook-cell:/home/leoperes/Dropbox/BoostedDM/Final_Analysis/newVertex_v02/Test_Hyp_Notebook.ipynb#X12sZmlsZQ%3D%3D?line=14'>15</a>\u001b[0m Sensitivity_Info\u001b[39m.\u001b[39;49mwrite(\u001b[39m\"\u001b[39;49m\u001b[39mSample: \u001b[39;49m\u001b[39m\"\u001b[39;49m\u001b[39m+\u001b[39;49m\u001b[39mstr\u001b[39;49m(sig_tree\u001b[39m.\u001b[39;49mGetCurrentFile()\u001b[39m.\u001b[39;49mGetName()[\u001b[39m28\u001b[39;49m:\u001b[39m-\u001b[39;49m\u001b[39m5\u001b[39;49m])\u001b[39m+\u001b[39;49m\u001b[39m\"\u001b[39;49m\u001b[39m\\n\u001b[39;49;00m\u001b[39m\"\u001b[39;49m)\n\u001b[1;32m     <a href='vscode-notebook-cell:/home/leoperes/Dropbox/BoostedDM/Final_Analysis/newVertex_v02/Test_Hyp_Notebook.ipynb#X12sZmlsZQ%3D%3D?line=15'>16</a>\u001b[0m Sensitivity_Info\u001b[39m.\u001b[39mwrite(\u001b[39m\"\u001b[39m\u001b[39mNumber of Boosted DM Events Simulated: \u001b[39m\u001b[39m\"\u001b[39m \u001b[39m+\u001b[39m\u001b[39mstr\u001b[39m(nSimulatedEvtsList[index])\u001b[39m+\u001b[39m\u001b[39m\"\u001b[39m\u001b[39m\\n\u001b[39;00m\u001b[39m\"\u001b[39m)\n\u001b[1;32m     <a href='vscode-notebook-cell:/home/leoperes/Dropbox/BoostedDM/Final_Analysis/newVertex_v02/Test_Hyp_Notebook.ipynb#X12sZmlsZQ%3D%3D?line=16'>17</a>\u001b[0m Sensitivity_Info\u001b[39m.\u001b[39mwrite(\u001b[39m\"\u001b[39m\u001b[39mNumber of Boosted DM Events Reconstructed: \u001b[39m\u001b[39m\"\u001b[39m \u001b[39m+\u001b[39m \u001b[39mstr\u001b[39m(nSimulatedEvtsRecoList[index])\u001b[39m+\u001b[39m\u001b[39m\"\u001b[39m\u001b[39m\\n\u001b[39;00m\u001b[39m\"\u001b[39m)\n",
      "\u001b[0;31mValueError\u001b[0m: I/O operation on closed file."
     ]
    },
    {
     "name": "stdout",
     "output_type": "stream",
     "text": [
      "                         : Booking \"TMVAClassification\" of type \"BDT\" from /home/leoperes/Dropbox/BoostedDM/Final_Analysis/dataset_v02/weights/TMVAClassification_BDTAtmCCNC.weights.xml.\n",
      "                         : Reading weight file: /home/leoperes/Dropbox/BoostedDM/Final_Analysis/dataset_v02/weights/TMVAClassification_BDTAtmCCNC.weights.xml\n",
      "<HEADER> DataSetInfo              : [Default] : Added class \"Signal\"\n",
      "<HEADER> DataSetInfo              : [Default] : Added class \"Background\"\n",
      "                         : Booked classifier \"BDTAtmCCNC\" of type: \"BDT\"\n",
      "                         : Rebuilding Dataset Default\n"
     ]
    }
   ],
   "source": [
    "for sig_tree in signalTreesList:\n",
    "    \n",
    "    CVN_Signal = GetNpArraysFromTrees(sig_tree,\"CVN_NCScore\")\n",
    "    CosSun_Signal = GetNpArraysFromTrees(sig_tree,\"DiffCosAngleTotalMom\")\n",
    "    BDTResponseSignal = GetBDTResponse(sig_tree)\n",
    "    CVN_Signal_Valid = CVN_Signal[CVN_Signal>-1]\n",
    "    CosSun_Signal_wCVN = CosSun_Signal[CVN_Signal> -1]\n",
    "    CosSun_Signal_NoCVN = CosSun_Signal[CVN_Signal == -1]\n",
    "\n",
    "    \n",
    "    bestResultsTwoAngCuts = []\n",
    "    SpMinTwoAngCuts = 99999999.9\n",
    "    bestCVNCutTwoCut = -3\n",
    "\n",
    "    Sensitivity_Info.write(\"Sample: \"+str(sig_tree.GetCurrentFile().GetName()[28:-5])+\"\\n\")\n",
    "    Sensitivity_Info.write(\"Number of Boosted DM Events Simulated: \" +str(nSimulatedEvtsList[index])+\"\\n\")\n",
    "    Sensitivity_Info.write(\"Number of Boosted DM Events Reconstructed: \" + str(nSimulatedEvtsRecoList[index])+\"\\n\")\n",
    "    Sensitivity_Info.write(\"Ratio of Boosted DM Events Reconstructed: \" +str(float(nSimulatedEvtsRecoList[index])/nSimulatedEvtsList[index])+\"\\n\")\n",
    "    Sensitivity_Info.write(\"\\n\")\n",
    "\n",
    "    Sensitivity_results.write(\"Sample: \"+str(sig_tree.GetCurrentFile().GetName()[28:-5])+\"\\n\")\n",
    "    Sensitivity_results.write(\"SigStrength\\tNegCosCut\\tPosCosCut\\tbestEff\\tBkgExpect\\tBkgError\\tCVNCut\\tBDTCut\\n\")\n",
    "    for CVNScore in CVN_Cuts:\n",
    "        for BDT_Score in BDT_Cuts:\n",
    "            resultsTwoAngCuts = AngularCutBothSides(CVNScore, BDT_Score, nSimulatedEvtsList[index])\n",
    "            if resultsTwoAngCuts[0] < SpMinTwoAngCuts:\n",
    "                bestResultsTwoAngCuts = resultsTwoAngCuts\n",
    "                bestCVNCutTwoCut = CVNScore\n",
    "                SpMinTwoAngCuts = resultsTwoAngCuts[0]\n",
    "                \n",
    "                Sensitivity_results.write(str(bestResultsTwoAngCuts[0])+\"\\t\"+str(bestResultsTwoAngCuts[1])+\"\\t\"+str(bestResultsTwoAngCuts[2])+\"\\t\"+str(bestResultsTwoAngCuts[3])+\"\\t\"+str(bestResultsTwoAngCuts[4])+\"\\t\"+str(bestResultsTwoAngCuts[5])+\"\\t\"+str(bestResultsTwoAngCuts[6])+\"\\t\"+str(bestResultsTwoAngCuts[7])+\"\\n\")\n",
    "                \n",
    "\n",
    "    Sensitivity_results.write(str(\" ======= BEST CUTS ========\")+\"\\n\")\n",
    "    Sensitivity_results.write(str(bestResultsTwoAngCuts[0])+\"\\t\"+str(bestResultsTwoAngCuts[1])+\"\\t\"+str(bestResultsTwoAngCuts[2])+\"\\t\"+str(bestResultsTwoAngCuts[3])+\"\\t\"+str(bestResultsTwoAngCuts[4])+\"\\t\"+str(bestResultsTwoAngCuts[5])+\"\\t\"+str(bestResultsTwoAngCuts[6])+\"\\t\"+str(bestResultsTwoAngCuts[7])+\"\\n\")   \n",
    "    np.savetxt(Eff_Bkg_index, np.array(bestResultsTwoAngCuts[0:8]).flatten(), fmt=\"%.3f\", newline = \" \",delimiter=', ')\n",
    "    Eff_Bkg_index.write(\"\\n\")\n",
    "    Sensitivity_results.write(\"\\n\")\n",
    "    print('\\n')\n",
    "    print(index)\n",
    "    print(\"################# BEST ANGULAR AND CVN CUTS INFO #######################\")\n",
    "    print(\"Optimal Signal Strength: \" + '{:.0f}'.format(bestResultsTwoAngCuts[0]))\n",
    "    print(\"Optimal CVN Cut: \" +'{:.3f}'.format(bestResultsTwoAngCuts[6]))\n",
    "    print(\"Optimal BDT Cut: \" +'{:.3f}'.format(bestResultsTwoAngCuts[7]))\n",
    "    print(\"Optimal Positive Cossine Angular Cut: \"  + '{:.3f}'.format(bestResultsTwoAngCuts[2]))\n",
    "    print(\"Optimal Negative Cossine Angular Cut: \" +  '{:.3f}'.format(bestResultsTwoAngCuts[1]))\n",
    "    print(\"Signal Efficiency: \" + '{:.3f}'.format(bestResultsTwoAngCuts[3]))\n",
    "    print(\"\")\n",
    "    print(\"Number of expected Atm Nu events: \" + '{:.1f}'.format(bestResultsTwoAngCuts[4]) + \", statistical uncertainty: \" + '{:.1f}'.format(bestResultsTwoAngCuts[5]))\n",
    "    print('\\n')\n",
    "    #h.write('{:.3f}'.format(bestResultsTwoAngCuts[3]),'{:.3f}'.format(bestResultsTwoAngCuts[4]),'{:.1d}'.format(index))\n",
    "   \n",
    "    resultsTOtxt(bestResultsTwoAngCuts[8], 'CosSunSignalAfterCuts_'+'{:.20s}'.format(SamplesNameList[index])+'.txt')\n",
    "    resultsTOtxt(bestResultsTwoAngCuts[9], 'CosSunAtmAfterCuts_'+'{:.20s}'.format(SamplesNameList[index])+'.txt')\n",
    "    resultsTOtxt(CVN_Signal, 'CVN_'+'{:.20s}'.format(SamplesNameList[index])+'.txt')\n",
    "    resultsTOtxt(BDTResponseSignal, 'BDT_'+'{:.20s}'.format(SamplesNameList[index])+'.txt')\n",
    "    resultsTOtxt(CosSun_Signal, 'CosSun_'+'{:.20s}'.format(SamplesNameList[index])+'.txt')\n",
    "    index = index + 1"
   ]
  },
  {
   "cell_type": "code",
   "execution_count": 22,
   "id": "5a66ac08",
   "metadata": {},
   "outputs": [],
   "source": [
    "Sensitivity_Info.close()\n",
    "Sensitivity_results.close()\n",
    "Eff_Bkg_index.close()"
   ]
  },
  {
   "cell_type": "code",
   "execution_count": null,
   "id": "35dfc5be",
   "metadata": {},
   "outputs": [],
   "source": []
  }
 ],
 "metadata": {
  "kernelspec": {
   "display_name": "Python 3 (ipykernel)",
   "language": "python",
   "name": "python3"
  },
  "language_info": {
   "codemirror_mode": {
    "name": "ipython",
    "version": 3
   },
   "file_extension": ".py",
   "mimetype": "text/x-python",
   "name": "python",
   "nbconvert_exporter": "python",
   "pygments_lexer": "ipython3",
   "version": "3.10.12"
  }
 },
 "nbformat": 4,
 "nbformat_minor": 5
}
