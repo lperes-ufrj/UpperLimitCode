{
 "cells": [
  {
   "cell_type": "code",
   "execution_count": 24,
   "id": "97862e6d",
   "metadata": {},
   "outputs": [],
   "source": [
    "import numpy as np\n",
    "import pandas as pd"
   ]
  },
  {
   "cell_type": "code",
   "execution_count": 25,
   "id": "4f1ca06c",
   "metadata": {},
   "outputs": [],
   "source": [
    "#Sample labels\n",
    "labelsamples= [\"b1p1_m05\",\"b1p1_m10\",\"b1p1_m20\",\"b1p1_m40\",\"b1p5_m05\",\"b1p5_m10\",\"b1p5_m20\",\"b1p5_m40\",\"b10_m05\",\"b10_m10\",\"b10_m20\",\"b10_m40\"]\n",
    "\n",
    "path='../CLs/'\n",
    "#txt files with signal strength, expected background and signal efficiency for each nuclear configuration model\n",
    "infiles = ['Eff_Bkg_index_00a.txt', 'Eff_Bkg_index_01a.txt', 'Eff_Bkg_index_02a.txt', 'Eff_Bkg_index_00b.txt', 'Eff_Bkg_index_01b.txt', 'Eff_Bkg_index_02b.txt']\n",
    "\n",
    "#function to read the list of txt files\n",
    "def readtxt(infile_array):\n",
    "    listloaded = [] \n",
    "    for infile in infile_array:\n",
    "        listloaded.append(np.loadtxt(path+infile, usecols=(3,4), skiprows=1))\n",
    "    return listloaded"
   ]
  },
  {
   "cell_type": "code",
   "execution_count": 26,
   "id": "f1073e68",
   "metadata": {},
   "outputs": [],
   "source": [
    "optimals = readtxt(infiles) "
   ]
  },
  {
   "cell_type": "markdown",
   "id": "aaeecbe7",
   "metadata": {},
   "source": [
    "## 1: (b_cv - b_i)/b_cv ,   2: (eff_cv - eff_i)/eff_cv ##"
   ]
  },
  {
   "cell_type": "code",
   "execution_count": 27,
   "id": "0c7f8cd5",
   "metadata": {},
   "outputs": [],
   "source": [
    "def return_shift(value):\n",
    "    if value < 1:\n",
    "        return -1+value\n",
    "    if value > 1:\n",
    "        return value-1\n",
    "    if value == 1:\n",
    "        return value-1"
   ]
  },
  {
   "cell_type": "code",
   "execution_count": 28,
   "id": "d34b035c",
   "metadata": {},
   "outputs": [
    {
     "data": {
      "text/plain": [
       "array([[[1.500000e-02, 2.431368e+03],\n",
       "        [1.800000e-02, 2.434771e+03],\n",
       "        [1.800000e-02, 2.434771e+03],\n",
       "        [1.900000e-02, 2.433313e+03],\n",
       "        [1.130000e-01, 1.676655e+03],\n",
       "        [1.150000e-01, 1.676655e+03],\n",
       "        [1.180000e-01, 1.676655e+03],\n",
       "        [1.180000e-01, 1.676655e+03],\n",
       "        [3.730000e-01, 2.590332e+03],\n",
       "        [3.870000e-01, 2.619257e+03],\n",
       "        [4.020000e-01, 1.647730e+03],\n",
       "        [3.320000e-01, 1.811312e+03]],\n",
       "\n",
       "       [[1.400000e-02, 2.502410e+03],\n",
       "        [1.600000e-02, 2.507192e+03],\n",
       "        [1.800000e-02, 2.507192e+03],\n",
       "        [1.800000e-02, 2.504860e+03],\n",
       "        [1.160000e-01, 1.732361e+03],\n",
       "        [1.170000e-01, 1.732361e+03],\n",
       "        [1.200000e-01, 1.732361e+03],\n",
       "        [1.200000e-01, 1.732361e+03],\n",
       "        [3.730000e-01, 2.703055e+03],\n",
       "        [3.860000e-01, 2.735665e+03],\n",
       "        [0.000000e+00, 0.000000e+00],\n",
       "        [3.160000e-01, 1.704810e+03]],\n",
       "\n",
       "       [[2.300000e-02, 2.702546e+03],\n",
       "        [2.600000e-02, 2.705910e+03],\n",
       "        [2.800000e-02, 2.705910e+03],\n",
       "        [2.800000e-02, 2.703913e+03],\n",
       "        [1.120000e-01, 1.851512e+03],\n",
       "        [1.170000e-01, 1.851512e+03],\n",
       "        [1.200000e-01, 1.851512e+03],\n",
       "        [1.220000e-01, 1.851512e+03],\n",
       "        [3.740000e-01, 2.781920e+03],\n",
       "        [3.910000e-01, 2.810305e+03],\n",
       "        [3.140000e-01, 1.740178e+03],\n",
       "        [3.340000e-01, 1.927416e+03]],\n",
       "\n",
       "       [[8.000000e-03, 2.443404e+03],\n",
       "        [1.000000e-02, 2.446939e+03],\n",
       "        [1.100000e-02, 2.446939e+03],\n",
       "        [1.200000e-02, 2.445267e+03],\n",
       "        [1.130000e-01, 1.667206e+03],\n",
       "        [1.180000e-01, 1.667206e+03],\n",
       "        [1.200000e-01, 1.667206e+03],\n",
       "        [1.200000e-01, 1.667206e+03],\n",
       "        [3.670000e-01, 2.582092e+03],\n",
       "        [3.820000e-01, 2.610364e+03],\n",
       "        [3.080000e-01, 1.623794e+03],\n",
       "        [3.260000e-01, 1.793954e+03]],\n",
       "\n",
       "       [[7.000000e-03, 2.499552e+03],\n",
       "        [8.000000e-03, 2.504899e+03],\n",
       "        [9.000000e-03, 2.504899e+03],\n",
       "        [9.000000e-03, 2.501469e+03],\n",
       "        [1.190000e-01, 1.727638e+03],\n",
       "        [1.200000e-01, 1.727638e+03],\n",
       "        [1.220000e-01, 1.727638e+03],\n",
       "        [1.210000e-01, 1.727638e+03],\n",
       "        [3.700000e-01, 2.709542e+03],\n",
       "        [3.840000e-01, 2.741219e+03],\n",
       "        [3.080000e-01, 1.698886e+03],\n",
       "        [3.260000e-01, 1.879771e+03]],\n",
       "\n",
       "       [[3.300000e-02, 2.902587e+03],\n",
       "        [3.500000e-02, 2.906410e+03],\n",
       "        [3.400000e-02, 2.906410e+03],\n",
       "        [3.400000e-02, 2.904344e+03],\n",
       "        [1.160000e-01, 1.951437e+03],\n",
       "        [1.180000e-01, 1.951437e+03],\n",
       "        [1.250000e-01, 1.951437e+03],\n",
       "        [1.240000e-01, 1.951437e+03],\n",
       "        [3.630000e-01, 2.910751e+03],\n",
       "        [3.830000e-01, 2.940358e+03],\n",
       "        [3.050000e-01, 1.832699e+03],\n",
       "        [3.260000e-01, 2.021141e+03]]])"
      ]
     },
     "execution_count": 28,
     "metadata": {},
     "output_type": "execute_result"
    }
   ],
   "source": [
    "optimals = np.array(optimals)\n",
    "optimals"
   ]
  },
  {
   "cell_type": "code",
   "execution_count": 29,
   "id": "782b86b1",
   "metadata": {},
   "outputs": [],
   "source": [
    "# Vectorize the function\n",
    "vectorized_nuclear_shift = np.vectorize(return_shift)"
   ]
  },
  {
   "cell_type": "code",
   "execution_count": 30,
   "id": "662831a5",
   "metadata": {},
   "outputs": [],
   "source": [
    "def color_negative_red(val):\n",
    "    \"\"\"\n",
    "    Takes a scalar and returns a string with\n",
    "    the css property `'color: red'` for negative\n",
    "    strings, black otherwise.\n",
    "    \"\"\"\n",
    "    color = 'blue' if val > 0 else 'black'\n",
    "    return 'color: % s' % color\n",
    "\n",
    "models = [vectorized_nuclear_shift(optimals[i][:][:]/optimals[0][:][:]) for i in range(6) ] \n",
    "df_models = [pd.DataFrame({'Efficiency Shift': model[:, 0]*100, 'Background Shift': model[:, 1]*100}) for model in models]\n",
    "\n",
    "\n",
    "    \n",
    "    \n",
    "    "
   ]
  },
  {
   "cell_type": "code",
   "execution_count": 31,
   "id": "17501c93",
   "metadata": {},
   "outputs": [
    {
     "data": {
      "text/html": [
       "<div>\n",
       "<style scoped>\n",
       "    .dataframe tbody tr th:only-of-type {\n",
       "        vertical-align: middle;\n",
       "    }\n",
       "\n",
       "    .dataframe tbody tr th {\n",
       "        vertical-align: top;\n",
       "    }\n",
       "\n",
       "    .dataframe thead th {\n",
       "        text-align: right;\n",
       "    }\n",
       "</style>\n",
       "<table border=\"1\" class=\"dataframe\">\n",
       "  <thead>\n",
       "    <tr style=\"text-align: right;\">\n",
       "      <th></th>\n",
       "      <th>Efficiency Shift</th>\n",
       "      <th>Background Shift</th>\n",
       "    </tr>\n",
       "  </thead>\n",
       "  <tbody>\n",
       "    <tr>\n",
       "      <th>0</th>\n",
       "      <td>53.333333</td>\n",
       "      <td>11.153310</td>\n",
       "    </tr>\n",
       "    <tr>\n",
       "      <th>1</th>\n",
       "      <td>44.444444</td>\n",
       "      <td>11.136119</td>\n",
       "    </tr>\n",
       "    <tr>\n",
       "      <th>2</th>\n",
       "      <td>55.555556</td>\n",
       "      <td>11.136119</td>\n",
       "    </tr>\n",
       "    <tr>\n",
       "      <th>3</th>\n",
       "      <td>47.368421</td>\n",
       "      <td>11.120641</td>\n",
       "    </tr>\n",
       "    <tr>\n",
       "      <th>4</th>\n",
       "      <td>-0.884956</td>\n",
       "      <td>10.428919</td>\n",
       "    </tr>\n",
       "    <tr>\n",
       "      <th>5</th>\n",
       "      <td>1.739130</td>\n",
       "      <td>10.428919</td>\n",
       "    </tr>\n",
       "    <tr>\n",
       "      <th>6</th>\n",
       "      <td>1.694915</td>\n",
       "      <td>10.428919</td>\n",
       "    </tr>\n",
       "    <tr>\n",
       "      <th>7</th>\n",
       "      <td>3.389831</td>\n",
       "      <td>10.428919</td>\n",
       "    </tr>\n",
       "    <tr>\n",
       "      <th>8</th>\n",
       "      <td>0.268097</td>\n",
       "      <td>7.396272</td>\n",
       "    </tr>\n",
       "    <tr>\n",
       "      <th>9</th>\n",
       "      <td>1.033592</td>\n",
       "      <td>7.293977</td>\n",
       "    </tr>\n",
       "    <tr>\n",
       "      <th>10</th>\n",
       "      <td>-21.890547</td>\n",
       "      <td>5.610628</td>\n",
       "    </tr>\n",
       "    <tr>\n",
       "      <th>11</th>\n",
       "      <td>0.602410</td>\n",
       "      <td>6.409939</td>\n",
       "    </tr>\n",
       "  </tbody>\n",
       "</table>\n",
       "</div>"
      ],
      "text/plain": [
       "    Efficiency Shift  Background Shift\n",
       "0          53.333333         11.153310\n",
       "1          44.444444         11.136119\n",
       "2          55.555556         11.136119\n",
       "3          47.368421         11.120641\n",
       "4          -0.884956         10.428919\n",
       "5           1.739130         10.428919\n",
       "6           1.694915         10.428919\n",
       "7           3.389831         10.428919\n",
       "8           0.268097          7.396272\n",
       "9           1.033592          7.293977\n",
       "10        -21.890547          5.610628\n",
       "11          0.602410          6.409939"
      ]
     },
     "execution_count": 31,
     "metadata": {},
     "output_type": "execute_result"
    }
   ],
   "source": [
    "df_models[2]"
   ]
  },
  {
   "cell_type": "code",
   "execution_count": 33,
   "id": "37832407",
   "metadata": {},
   "outputs": [
    {
     "data": {
      "text/plain": [
       "0     120.000000\n",
       "1      94.444444\n",
       "2      88.888889\n",
       "3      78.947368\n",
       "4       2.654867\n",
       "5       2.608696\n",
       "6       5.932203\n",
       "7       5.084746\n",
       "8      -2.680965\n",
       "9      -1.033592\n",
       "10    -24.129353\n",
       "11     -1.807229\n",
       "Name: Efficiency Shift, dtype: float64"
      ]
     },
     "execution_count": 33,
     "metadata": {},
     "output_type": "execute_result"
    }
   ],
   "source": [
    "df_models[5].iloc[:,0]"
   ]
  },
  {
   "cell_type": "code",
   "execution_count": 15,
   "id": "2ba1105a",
   "metadata": {},
   "outputs": [
    {
     "name": "stderr",
     "output_type": "stream",
     "text": [
      "/home/leoperes/.local/lib/python3.12/site-packages/matplotlib/projections/__init__.py:63: UserWarning: Unable to import Axes3D. This may be due to multiple versions of Matplotlib being installed (e.g. as a system package and as a pip package). As a result, the 3D projection is not available.\n",
      "  warnings.warn(\"Unable to import Axes3D. This may be due to multiple versions of \"\n"
     ]
    },
    {
     "data": {
      "text/plain": [
       "'\\\\begin{tabular}{rr}\\n\\\\toprule\\nEfficiency Shift & Background Shift \\\\\\\\\\n\\\\midrule\\n0.000000 & 0.000000 \\\\\\\\\\n0.000000 & 0.000000 \\\\\\\\\\n0.000000 & 0.000000 \\\\\\\\\\n0.000000 & 0.000000 \\\\\\\\\\n0.000000 & 0.000000 \\\\\\\\\\n0.000000 & 0.000000 \\\\\\\\\\n0.000000 & 0.000000 \\\\\\\\\\n0.000000 & 0.000000 \\\\\\\\\\n0.000000 & 0.000000 \\\\\\\\\\n0.000000 & 0.000000 \\\\\\\\\\n0.000000 & 0.000000 \\\\\\\\\\n0.000000 & 0.000000 \\\\\\\\\\n\\\\bottomrule\\n\\\\end{tabular}\\n'"
      ]
     },
     "execution_count": 15,
     "metadata": {},
     "output_type": "execute_result"
    }
   ],
   "source": [
    "df_models[0].to_latex(index=False)"
   ]
  },
  {
   "cell_type": "code",
   "execution_count": 23,
   "id": "b12f6137",
   "metadata": {},
   "outputs": [
    {
     "name": "stdout",
     "output_type": "stream",
     "text": [
      "\\begin{tabular}{rr}\n",
      "\\toprule\n",
      "Efficiency Shift & Background Shift \\\\\n",
      "\\midrule\n",
      "120.000000 & 19.380818 \\\\\n",
      "94.444444 & 19.370980 \\\\\n",
      "88.888889 & 19.370980 \\\\\n",
      "78.947368 & 19.357600 \\\\\n",
      "2.654867 & 16.388703 \\\\\n",
      "2.608696 & 16.388703 \\\\\n",
      "5.932203 & 16.388703 \\\\\n",
      "5.084746 & 16.388703 \\\\\n",
      "-2.680965 & 12.369804 \\\\\n",
      "-1.033592 & 12.259240 \\\\\n",
      "-24.129353 & 11.225686 \\\\\n",
      "-1.807229 & 11.584365 \\\\\n",
      "\\bottomrule\n",
      "\\end{tabular}\n",
      "\n"
     ]
    }
   ],
   "source": [
    "print(df_models[5].to_latex(index=False))"
   ]
  },
  {
   "cell_type": "markdown",
   "id": "ec91f140",
   "metadata": {},
   "source": [
    "&$m_\\chi$ (GeV)}& hA\\_BR & hA\\_LFG & hA\\_ESF  & hN\\_BR  & hN\\_LFG  & hN\\_ESF  \\\\\n",
    "\\hline\n",
    "\\multirow{4}{*}{$\\gamma = 1.1$}& 5 &0.015 & -6.6\\%  & +53\\%  &  &  & \\\\\n",
    "  &10& 0.018&-11.1\\%& +44\\%  &  &  &   \\\\\n",
    "  &20&0.018 &0\\%  & +54\\% & +55\\%  &  &   \\\\\n",
    "  &40&0.019 & -5.2\\%&  &  & +47% &   \\\\\n",
    "\\hline\n",
    "\\multirow{4}{*}{$\\gamma = 1.5$}& 5 &0.113  &+2.6\\%  &  &  &  & \\\\\n",
    "  &10& 0.115& 1.73\\% &  &  &  &   \\\\\n",
    "  &20& 0.118& 1.69\\% &  &  &  &   \\\\\n",
    "  &40& 0.118& 1.69\\%  &  &  &  &   \\\\\n",
    "  \\hline\n",
    "\\multirow{4}{*}{$\\gamma = 10$}& 5 & 0.373 &0.0\\%  &  &  &  & \\\\\n",
    "  &10&0.387 & -0.25\\%&  &  &  &   \\\\\n",
    "  &20& 0.402& X &  &  &  &   \\\\\n",
    "  &40& 0.332& -4.8\\%&  &  &  &   \\\\\n",
    "\\hline\n",
    "\n",
    "\n",
    "53.333333\n",
    "44.444444\n",
    "55.555556\n",
    "47.368421\n",
    "-0.884956\n",
    "1.739130\n",
    "1.694915\n",
    "3.389831\n",
    "0.268097\n",
    "1.033592\n",
    "-21.890547\n",
    "0.602410\n",
    "\n",
    " & 11.153310 \\\\\n",
    " & 11.136119 \\\\\n",
    " & 11.136119 \\\\\n",
    " & 11.120641 \\\\\n",
    " & 10.428919 \\\\\n",
    " & 10.428919 \\\\\n",
    " & 10.428919 \\\\\n",
    " & 10.428919 \\\\\n",
    " & 7.396272 \\\\\n",
    " & 7.293977 \\\\\n",
    " & 5.610628 \\\\\n",
    " & 6.409939 \\\\\n"
   ]
  },
  {
   "cell_type": "code",
   "execution_count": null,
   "id": "d799db4c",
   "metadata": {},
   "outputs": [],
   "source": []
  }
 ],
 "metadata": {
  "kernelspec": {
   "display_name": "Python 3",
   "language": "python",
   "name": "python3"
  },
  "language_info": {
   "codemirror_mode": {
    "name": "ipython",
    "version": 3
   },
   "file_extension": ".py",
   "mimetype": "text/x-python",
   "name": "python",
   "nbconvert_exporter": "python",
   "pygments_lexer": "ipython3",
   "version": "3.12.3"
  }
 },
 "nbformat": 4,
 "nbformat_minor": 5
}
