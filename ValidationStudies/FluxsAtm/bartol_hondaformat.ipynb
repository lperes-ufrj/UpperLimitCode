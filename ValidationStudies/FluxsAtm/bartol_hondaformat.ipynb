{
 "cells": [
  {
   "cell_type": "code",
   "execution_count": 1,
   "metadata": {},
   "outputs": [
    {
     "name": "stderr",
     "output_type": "stream",
     "text": [
      "/home/leoperes/.local/lib/python3.12/site-packages/matplotlib/projections/__init__.py:63: UserWarning: Unable to import Axes3D. This may be due to multiple versions of Matplotlib being installed (e.g. as a system package and as a pip package). As a result, the 3D projection is not available.\n",
      "  warnings.warn(\"Unable to import Axes3D. This may be due to multiple versions of \"\n"
     ]
    },
    {
     "name": "stdout",
     "output_type": "stream",
     "text": [
      "DUNE plot style enabled\n"
     ]
    }
   ],
   "source": [
    "import uproot\n",
    "import numpy as np\n",
    "import matplotlib.pyplot as plt\n",
    "import dunestyle.matplotlib as dunestyle\n",
    "import pandas as pd"
   ]
  },
  {
   "cell_type": "code",
   "execution_count": 2,
   "metadata": {},
   "outputs": [],
   "source": [
    "# File path to the data file\n",
    "bartol_numu_solmax = 'fmax20_0401z.sou_num'  \n",
    "bartol_anumu_solmax = 'fmax20_0401z.sou_nbm'\n",
    "bartol_nue_solmax = 'fmax20_0401z.sou_nue'\n",
    "bartol_anue_solmax = 'fmax20_0401z.sou_nbe'\n",
    "\n",
    "bartol_numu_solmin = 'fmin20_0401z.sou_num'\n",
    "bartol_anumu_solmin = 'fmin20_0401z.sou_nbm'\n",
    "bartol_nue_solmin = 'fmin20_0401z.sou_nue'\n",
    "bartol_anue_solmin = 'fmin20_0401z.sou_nbe'\n",
    "\n",
    "bartol_solmax_list = [bartol_numu_solmax, bartol_anumu_solmax, bartol_nue_solmax, bartol_anue_solmax]\n",
    "bartol_solmin_list = [bartol_numu_solmin, bartol_anumu_solmin, bartol_nue_solmin, bartol_anue_solmin]\n",
    "\n",
    "def ReadBartolTable(file_path):\n",
    "    # Column names as per the format description\n",
    "    columns = [\n",
    "        \"Energy_Center_GeV\",        # Energy at the center of the bin (GeV)\n",
    "        \"Cos_Zenith_or_Azimuth\",    # Cos(zenith) or azimuth (degrees)\n",
    "        \"Flux_dN/dlogE_m2_s_sr\",    # Flux (dN/d(logE)) in /m²/steradian/sec\n",
    "        \"MC_Stat_Error\",            # Monte Carlo statistical error\n",
    "        \"Unweighted_Events\"         # Number of unweighted events in the bin\n",
    "    ]\n",
    "\n",
    "    # Load the file into a DataFrame\n",
    "    with open(file_path, 'r') as file:\n",
    "        lines = file.readlines()\n",
    "        # Find the index where data starts (skip lines beginning with #)\n",
    "        data_start_idx = next(i for i, line in enumerate(lines) if not line.startswith('#'))\n",
    "\n",
    "    # Read the data into a DataFrame\n",
    "    df_flux = pd.read_csv(\n",
    "        file_path,\n",
    "        delim_whitespace=True,  # Columns are separated by whitespace\n",
    "        skiprows=data_start_idx,  # Skip comment lines\n",
    "        names=columns           # Assign column names\n",
    "    )\n",
    "\n",
    "    df_flux = df_flux.iloc[1:].reset_index(drop=True)\n",
    "\n",
    "    # Display the first few rows to ensure data is loaded correctly\n",
    "    #print(df_flux.head())\n",
    "\n",
    "    # Drop the first line (row) of the DataFrame\n",
    "    return df_flux"
   ]
  },
  {
   "cell_type": "code",
   "execution_count": 3,
   "metadata": {},
   "outputs": [],
   "source": [
    "def E_dflux_dE_from_df(dataframe_flux):\n",
    "    energy = np.array(dataframe_flux[\"Energy_Center_GeV\"].values, dtype=float)\n",
    "    flux = dataframe_flux[\"Flux_dN/dlogE_m2_s_sr\"].values\n",
    "    dflux_dE = np.array(flux, dtype=float) /  energy\n",
    "    return energy, dflux_dE"
   ]
  },
  {
   "cell_type": "code",
   "execution_count": null,
   "metadata": {},
   "outputs": [
    {
     "name": "stdout",
     "output_type": "stream",
     "text": [
      "bar_solmax_hondaformat.d\n"
     ]
    },
    {
     "name": "stderr",
     "output_type": "stream",
     "text": [
      "/tmp/ipykernel_13067/434497588.py:32: FutureWarning: The 'delim_whitespace' keyword in pd.read_csv is deprecated and will be removed in a future version. Use ``sep='\\s+'`` instead\n",
      "  df_flux = pd.read_csv(\n",
      "/tmp/ipykernel_13067/434497588.py:32: FutureWarning: The 'delim_whitespace' keyword in pd.read_csv is deprecated and will be removed in a future version. Use ``sep='\\s+'`` instead\n",
      "  df_flux = pd.read_csv(\n",
      "/tmp/ipykernel_13067/434497588.py:32: FutureWarning: The 'delim_whitespace' keyword in pd.read_csv is deprecated and will be removed in a future version. Use ``sep='\\s+'`` instead\n",
      "  df_flux = pd.read_csv(\n",
      "/tmp/ipykernel_13067/434497588.py:32: FutureWarning: The 'delim_whitespace' keyword in pd.read_csv is deprecated and will be removed in a future version. Use ``sep='\\s+'`` instead\n",
      "  df_flux = pd.read_csv(\n"
     ]
    }
   ],
   "source": [
    "#flux = [ReadBartolTable(flavor_nu) for flavor_nu in bartol_solmax_list]\n",
    "\n",
    "df_fluxes = [ReadBartolTable(bartol_flavor) for bartol_flavor in bartol_solmin_list]\n",
    "cos_honda = [' 1.00',' 0.90',' 0.80',' 0.70',' 0.60', ' 0.50', ' 0.40', ' 0.30', ' 0.20', ' 0.10', ' 0.00', '-0.10', '-0.20', '-0.30', '-0.40', '-0.50', '-0.60', '-0.70', '-0.80', '-0.90', '-1.00']\n",
    "\n",
    "# Assuming df_flux is the DataFrame containing the data\n",
    "cos_values = df_fluxes[0][\"Cos_Zenith_or_Azimuth\"].unique()  # Unique cos(zenith) values\n",
    "cos_values = np.array(cos_values)[::-1]\n",
    "\n",
    "for id, cos_val in enumerate(cos_values):\n",
    "    \n",
    "    # Text lines that change with each loop\n",
    "    line1 = rf\"average flux in [cosZ ={cos_honda[id+1]} -- {cos_honda[id]}, phi_Az =   0 -- 360]\"\n",
    "    line2 = \" Enu(GeV)   NuMu       NuMubar    NuE        NuEbar  (m^2 sec sr GeV)^-1\"\n",
    "    # Filter the DataFrame for the current cos(zenith) value\n",
    "    groups_df = [df_flux[df_flux[\"Cos_Zenith_or_Azimuth\"] == cos_val] for df_flux in df_fluxes]\n",
    "        \n",
    "    results = [E_dflux_dE_from_df(group) for group in groups_df]\n",
    "    energies = [result[0] for result in results]\n",
    "    fluxes = [result[1] for result in results]\n",
    "           \n",
    "    # Stack the arrays column-wise\n",
    "    stacked_arrays = np.column_stack((energies[0], fluxes[0], fluxes[1], fluxes[2], fluxes[3]))\n",
    "    \n",
    "    # Open the file in append mode\n",
    "    with open('bar_solmin_hondaformat.d', 'a') as f:\n",
    "        # Write the custom text lines\n",
    "        f.write(line1 + '\\n')\n",
    "        f.write(line2 + '\\n')\n",
    "\n",
    "        # Write the 5 NumPy arrays (each as a column)\n",
    "        stacked_arrays = np.column_stack((energies[0], fluxes[0], fluxes[1], fluxes[2], fluxes[3]))  # Stack arrays column-wise\n",
    "        np.savetxt(f, stacked_arrays, fmt=' %.4E', delimiter=\" \")\n",
    "        \n",
    "print(\"bar_solmin_hondaformat.d\")"
   ]
  },
  {
   "cell_type": "code",
   "execution_count": 42,
   "metadata": {},
   "outputs": [
    {
     "data": {
      "text/plain": [
       "'[1.00 0.90 0.80 0.70 0.60 0.50 0.40 0.30 0.20 0.10 0.00 -0.10 -0.20 -0.30\\n -0.40 -0.50 -0.60 -0.70 -0.80 -0.90 -1.00]'"
      ]
     },
     "execution_count": 42,
     "metadata": {},
     "output_type": "execute_result"
    }
   ],
   "source": [
    "cos_honda"
   ]
  },
  {
   "cell_type": "code",
   "execution_count": null,
   "metadata": {},
   "outputs": [],
   "source": [
    "['1.00','0.90','0.80','0.70','0.60', '0.50', '0.40', '0.30', '0.20', '0.10', '0.00', '-0.10', '-0.20', '-0.30', '-0.40', '-0.50', '-0.60', '-0.70', '-0.80', '-0.90', '-1.00']"
   ]
  }
 ],
 "metadata": {
  "kernelspec": {
   "display_name": "Python 3",
   "language": "python",
   "name": "python3"
  },
  "language_info": {
   "codemirror_mode": {
    "name": "ipython",
    "version": 3
   },
   "file_extension": ".py",
   "mimetype": "text/x-python",
   "name": "python",
   "nbconvert_exporter": "python",
   "pygments_lexer": "ipython3",
   "version": "3.10.12"
  }
 },
 "nbformat": 4,
 "nbformat_minor": 2
}
