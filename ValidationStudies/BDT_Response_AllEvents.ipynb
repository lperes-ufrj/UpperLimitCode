{
 "cells": [
  {
   "cell_type": "code",
   "execution_count": 1,
   "id": "df3b0b72",
   "metadata": {},
   "outputs": [
    {
     "name": "stdout",
     "output_type": "stream",
     "text": [
      "3.12.3 (main, Sep 11 2024, 14:17:37) [GCC 13.2.0]\n"
     ]
    },
    {
     "name": "stderr",
     "output_type": "stream",
     "text": [
      "/home/leoperes/.local/lib/python3.12/site-packages/matplotlib/projections/__init__.py:63: UserWarning: Unable to import Axes3D. This may be due to multiple versions of Matplotlib being installed (e.g. as a system package and as a pip package). As a result, the 3D projection is not available.\n",
      "  warnings.warn(\"Unable to import Axes3D. This may be due to multiple versions of \"\n"
     ]
    }
   ],
   "source": [
    "import sys\n",
    "print(sys.version)\n",
    "import numpy as np\n",
    "import ROOT\n",
    "from array import *\n",
    "import matplotlib.pyplot as plt\n",
    "import math\n",
    "from scipy.optimize import brentq\n",
    "import time"
   ]
  },
  {
   "cell_type": "code",
   "execution_count": 2,
   "id": "fb5be147",
   "metadata": {},
   "outputs": [],
   "source": [
    "fAtm = ROOT.TFile.Open('/home/leoperes/ntuples_grid_newVertex/00a_newVertex/atm_hA_BR_4ana.root')\n",
    "\n",
    "fBDM_m10_b1p1 = ROOT.TFile.Open('/home/leoperes/ntuples_grid_newVertex/00a_newVertex/bdm_m10_b1p1_00a.root')\n",
    "fBDM_m10_b1p5 = ROOT.TFile.Open('/home/leoperes/ntuples_grid_newVertex/00a_newVertex/bdm_m10_b1p5_00a.root')\n",
    "fBDM_m10_b10 = ROOT.TFile.Open('/home/leoperes/ntuples_grid_newVertex/00a_newVertex/bdm_m10_b10_00a.root')\n",
    "\n",
    "fTree_atm = fAtm.Get(\"ana/Atm\")\n",
    "fTree_m10_b1p1 = fBDM_m10_b1p1.Get(\"ana/Atm\")\n",
    "fTree_m10_b1p5 = fBDM_m10_b1p5.Get(\"ana/Atm\")\n",
    "fTree_m10_b10 = fBDM_m10_b10.Get(\"ana/Atm\")\n",
    "\n",
    "nSimulatedEvtsReco_atm = fTree_atm.GetEntries()\n",
    "nSimulatedEvtsReco_m10_b1p1 = fTree_m10_b1p1.GetEntries()\n",
    "nSimulatedEvtsReco_m10_b1p5 = fTree_m10_b1p5.GetEntries()\n",
    "nSimulatedEvtsReco_m10_b10 = fTree_m10_b10.GetEntries()"
   ]
  },
  {
   "cell_type": "code",
   "execution_count": 3,
   "id": "2cfe8750",
   "metadata": {},
   "outputs": [],
   "source": [
    "\n",
    "def GetNpArraysFromTrees(tree, branch_name):\n",
    "    estimate = 3e6 #amount of numbers getting from branch\n",
    "    tree.SetEstimate(int(estimate))\n",
    "    result_hist = tree.Draw(branch_name, \"\", \"goff\")\n",
    "    result = np.asarray(np.frombuffer(tree.GetV1(), dtype=np.float64, count=result_hist))\n",
    "    result = result.copy()\n",
    "    return result\n",
    "\n",
    "\n",
    "def GetBDTResponse(tree):\n",
    "    \n",
    "    bdtOutput = []\n",
    "    # in order to start TMVA\n",
    "    ROOT.TMVA.Tools.Instance()\n",
    "    reader = ROOT.TMVA.Reader(\"!Color:!Silent\")\n",
    "    \n",
    "    LongestTrack= array('f',[0])\n",
    "    HighestTrackSummedADC= array('f',[0])\n",
    "    PIDALongestTrack= array('f',[0])\n",
    "    nTracks= array('f',[0])\n",
    "    nShowers= array('f',[0])\n",
    "    TotalMomentumP= array('f',[0])\n",
    "    nSpacePoints= array('f',[0])\n",
    "    #NPrimaryDaughters= array('f',[0])\n",
    "    HighestShowerSummedADC= array('f',[0])\n",
    "    #PrimaryPDGReco= array('f',[0])\n",
    "    LargeShowerOpenAngle= array('f',[0])\n",
    "    LongestShower= array('f',[0])\n",
    "    CosThetaDetTotalMom= array('f',[0])\n",
    "    CosPhiDetTotalMom= array('f',[0])\n",
    "    FracTotalChargeLongTrack= array('f',[0])\n",
    "    AvarageTrackLength= array('f',[0])\n",
    "    CVN_NCScore= array('f',[0])\n",
    "    EventRecoEnergy_Charge = array('f',[0])\n",
    "    EventRecoEnergy_numu = array('f',[0])\n",
    "    EventRecoEnergy_nue = array('f',[0])\n",
    "    #event = array('f',[0])\n",
    "    \n",
    "    \n",
    "    reader.AddVariable(\"LongestTrack\", LongestTrack)\n",
    "    reader.AddVariable(\"log(HighestTrackSummedADC)\", HighestTrackSummedADC)\n",
    "    reader.AddVariable(\"PIDALongestTrack\", PIDALongestTrack)\n",
    "    reader.AddVariable(\"nTracks\", nTracks)\n",
    "    reader.AddVariable(\"nShowers\", nShowers)\n",
    "    reader.AddVariable(\"TotalMomentumP\", TotalMomentumP)\n",
    "    reader.AddVariable(\"nSpacePoints\", nSpacePoints)\n",
    "    #reader.AddVariable(\"NPrimaryDaughters\", NPrimaryDaughters)\n",
    "    reader.AddVariable(\"log(HighestShowerSummedADC)\", HighestShowerSummedADC)\n",
    "    #reader.AddVariable(\"PrimaryPDGReco\", PrimaryPDGReco)\n",
    "    reader.AddVariable(\"LargeShowerOpenAngle\", LargeShowerOpenAngle)\n",
    "    reader.AddVariable(\"LongestShower\", LongestShower)\n",
    "    reader.AddVariable(\"CosThetaDetTotalMom\", CosThetaDetTotalMom)\n",
    "    reader.AddVariable(\"CosPhiDetTotalMom\", CosPhiDetTotalMom)\n",
    "    reader.AddVariable(\"FracTotalChargeLongTrack\", FracTotalChargeLongTrack)\n",
    "    reader.AddVariable(\"AvarageTrackLength\", AvarageTrackLength)\n",
    "    reader.AddVariable(\"CVN_NCScore\", CVN_NCScore)\n",
    "    reader.AddVariable(\"EventRecoEnergy_Charge\", EventRecoEnergy_Charge)\n",
    "    reader.AddVariable(\"EventRecoEnergy_numu\", EventRecoEnergy_numu)\n",
    "    reader.AddVariable(\"EventRecoEnergy_nue\", EventRecoEnergy_nue)\n",
    "    #reader.AddSpectator(\"event\", event)\n",
    "    \n",
    "    reader.BookMVA(\"TMVAClassification\",\"/home/leoperes/Dropbox/BoostedDM/Final_Analysis/dataset_v02/weights/TMVAClassification_BDTAtmCCNC.weights.xml\")\n",
    "    \n",
    "    nentry = tree.GetEntries()\n",
    "    \n",
    "    for i in range(nentry):\n",
    "        tree.GetEntry(i)\n",
    "        #print(tree.NPrimaryDaughters)\n",
    "\n",
    "                    \n",
    "        LongestTrack[0] = float(tree.LongestTrack)\n",
    "        HighestTrackSummedADC[0] = float(tree.HighestTrackSummedADC)\n",
    "        PIDALongestTrack[0] = float(tree.PIDALongestTrack)\n",
    "        nTracks[0] = float(tree.nTracks)\n",
    "        nShowers[0] = float(tree.nShowers)\n",
    "        TotalMomentumP[0] = float(tree.TotalMomentumP)\n",
    "        nSpacePoints[0] = float(tree.nSpacePoints)\n",
    "        #NPrimaryDaughters[0] = float(tree.NPrimaryDaughters[0])\n",
    "        HighestShowerSummedADC[0] = float(tree.HighestShowerSummedADC)\n",
    "        #PrimaryPDGReco[0] = float(tree.PrimaryPDGReco[0])\n",
    "        LargeShowerOpenAngle[0] = float(tree.LargeShowerOpenAngle)\n",
    "        LongestShower[0] = float(tree.LongestShower)\n",
    "        CosThetaDetTotalMom[0] = float(tree.CosThetaDetTotalMom)\n",
    "        CosPhiDetTotalMom[0] = float(tree.CosPhiDetTotalMom)\n",
    "        FracTotalChargeLongTrack[0] = float(tree.FracTotalChargeLongTrack)\n",
    "        AvarageTrackLength[0] = float(tree.AvarageTrackLength)\n",
    "        CVN_NCScore[0] = float(tree.CVN_NCScore)\n",
    "        EventRecoEnergy_Charge[0] = float(tree.EventRecoEnergy_Charge)\n",
    "        EventRecoEnergy_numu[0] = float(tree.EventRecoEnergy_numu)\n",
    "        EventRecoEnergy_nue[0] = float(tree.EventRecoEnergy_nue)\n",
    "           \n",
    "        bdt = reader.EvaluateMVA(\"TMVAClassification\")\n",
    "        bdtOutput.append(bdt)\n",
    "            \n",
    "    return np.array(bdtOutput)"
   ]
  },
  {
   "cell_type": "code",
   "execution_count": 4,
   "id": "ff4a8568",
   "metadata": {},
   "outputs": [
    {
     "name": "stdout",
     "output_type": "stream",
     "text": [
      "                         : Booking \"TMVAClassification\" of type \"BDT\" from /home/leoperes/Dropbox/BoostedDM/Final_Analysis/dataset_v02/weights/TMVAClassification_BDTAtmCCNC.weights.xml.\n",
      "                         : Reading weight file: /home/leoperes/Dropbox/BoostedDM/Final_Analysis/dataset_v02/weights/TMVAClassification_BDTAtmCCNC.weights.xml\n",
      "<HEADER> DataSetInfo              : [Default] : Added class \"Signal\"\n",
      "<HEADER> DataSetInfo              : [Default] : Added class \"Background\"\n",
      "                         : Booked classifier \"BDTAtmCCNC\" of type: \"BDT\"\n",
      "                         : Rebuilding Dataset Default\n",
      "                         : Booking \"TMVAClassification\" of type \"BDT\" from /home/leoperes/Dropbox/BoostedDM/Final_Analysis/dataset_v02/weights/TMVAClassification_BDTAtmCCNC.weights.xml.\n",
      "                         : Reading weight file: /home/leoperes/Dropbox/BoostedDM/Final_Analysis/dataset_v02/weights/TMVAClassification_BDTAtmCCNC.weights.xml\n",
      "<HEADER> DataSetInfo              : [Default] : Added class \"Signal\"\n",
      "<HEADER> DataSetInfo              : [Default] : Added class \"Background\"\n",
      "                         : Booked classifier \"BDTAtmCCNC\" of type: \"BDT\"\n",
      "                         : Rebuilding Dataset Default\n",
      "                         : Booking \"TMVAClassification\" of type \"BDT\" from /home/leoperes/Dropbox/BoostedDM/Final_Analysis/dataset_v02/weights/TMVAClassification_BDTAtmCCNC.weights.xml.\n",
      "                         : Reading weight file: /home/leoperes/Dropbox/BoostedDM/Final_Analysis/dataset_v02/weights/TMVAClassification_BDTAtmCCNC.weights.xml\n",
      "<HEADER> DataSetInfo              : [Default] : Added class \"Signal\"\n",
      "<HEADER> DataSetInfo              : [Default] : Added class \"Background\"\n",
      "                         : Booked classifier \"BDTAtmCCNC\" of type: \"BDT\"\n",
      "                         : Rebuilding Dataset Default\n",
      "                         : Booking \"TMVAClassification\" of type \"BDT\" from /home/leoperes/Dropbox/BoostedDM/Final_Analysis/dataset_v02/weights/TMVAClassification_BDTAtmCCNC.weights.xml.\n",
      "                         : Reading weight file: /home/leoperes/Dropbox/BoostedDM/Final_Analysis/dataset_v02/weights/TMVAClassification_BDTAtmCCNC.weights.xml\n",
      "<HEADER> DataSetInfo              : [Default] : Added class \"Signal\"\n",
      "<HEADER> DataSetInfo              : [Default] : Added class \"Background\"\n",
      "                         : Booked classifier \"BDTAtmCCNC\" of type: \"BDT\"\n",
      "                         : Rebuilding Dataset Default\n"
     ]
    }
   ],
   "source": [
    "BDTResponseAtm = GetBDTResponse(fTree_atm)\n",
    "BDTResponse_m10_b1p1_00a = GetBDTResponse(fTree_m10_b1p1)\n",
    "BDTResponse_m10_b1p5_00a = GetBDTResponse(fTree_m10_b1p5)\n",
    "BDTResponse_m10_b10_00a = GetBDTResponse(fTree_m10_b10)"
   ]
  },
  {
   "cell_type": "code",
   "execution_count": 8,
   "id": "488f1620",
   "metadata": {},
   "outputs": [],
   "source": [
    "CCNC_Atm = GetNpArraysFromTrees(fTree_atm,\"CCNC\")"
   ]
  },
  {
   "cell_type": "code",
   "execution_count": 9,
   "id": "27153dbf",
   "metadata": {},
   "outputs": [
    {
     "data": {
      "text/plain": [
       "220573"
      ]
     },
     "execution_count": 9,
     "metadata": {},
     "output_type": "execute_result"
    }
   ],
   "source": [
    "CCNC_Atm.size"
   ]
  },
  {
   "cell_type": "code",
   "execution_count": 10,
   "id": "b5aa52d9",
   "metadata": {},
   "outputs": [
    {
     "data": {
      "text/plain": [
       "220573"
      ]
     },
     "execution_count": 10,
     "metadata": {},
     "output_type": "execute_result"
    }
   ],
   "source": [
    "BDTResponseAtm.size"
   ]
  },
  {
   "cell_type": "code",
   "execution_count": 19,
   "id": "17a593c4",
   "metadata": {},
   "outputs": [
    {
     "data": {
      "image/png": "[encoded data removed]",
      "text/plain": [
       "<Figure size 960x720 with 1 Axes>"
      ]
     },
     "metadata": {},
     "output_type": "display_data"
    }
   ],
   "source": [
    "plt.rc('text', usetex=True)\n",
    "plt.rc('font', size=12)\n",
    "plt.figure(dpi=150)\n",
    "h1, x1, _ = plt.hist(BDTResponseAtm, bins= 30, density=True, label=r'Atm-$\\nu$', histtype='step', lw =1)\n",
    "#h5, x5, _ = plt.hist(BDTResponseAtm[CCNC_Atm==1], bins= 30, density=True, label=r'Atm-$\\nu$ NC', histtype='step', lw =1)\n",
    "h2, x2, _ = plt.hist(BDTResponse_m10_b1p1_00a, bins= 30, density=True, label=r'DM $\\gamma = 1.1 $', histtype='step',lw =1)\n",
    "#h3, x3, _ = plt.hist(BDTResponse_m10_b1p5_00a, bins= 30, density=True, label=r'DM $\\gamma = 1.5 $', histtype='step',lw =1)\n",
    "#h4, x4, _ = plt.hist(BDTResponse_m10_b10_00a, bins= 30, density=True, label=r'DM $\\gamma = 10 $', histtype='step',lw =1)\n",
    "plt.xlabel('BDT Score',fontsize=14)\n",
    "plt.ylabel('Normalized Frequency', fontsize=14)\n",
    "plt.legend(title = r'\\textbf{DUNE IN PROGRESS\\\\} $m_\\chi=10 \\textrm{ GeV}$, hA+BR',loc='upper left',ncols=1, fontsize=13)\n",
    "plt.savefig('bdt_all_'+str(time.strftime(\"%Y%m%d\"))+'.pdf', format='pdf')\n",
    "plt.show()"
   ]
  },
  {
   "cell_type": "code",
   "execution_count": null,
   "id": "51781af7",
   "metadata": {},
   "outputs": [],
   "source": []
  }
 ],
 "metadata": {
  "kernelspec": {
   "display_name": "Python 3 (ipykernel)",
   "language": "python",
   "name": "python3"
  },
  "language_info": {
   "codemirror_mode": {
    "name": "ipython",
    "version": 3
   },
   "file_extension": ".py",
   "mimetype": "text/x-python",
   "name": "python",
   "nbconvert_exporter": "python",
   "pygments_lexer": "ipython3",
   "version": "3.12.3"
  }
 },
 "nbformat": 4,
 "nbformat_minor": 5
}
