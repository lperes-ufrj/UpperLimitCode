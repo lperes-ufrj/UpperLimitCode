{
 "cells": [
  {
   "cell_type": "code",
   "execution_count": 2,
   "metadata": {},
   "outputs": [],
   "source": [
    "import ROOT\n",
    "import numpy as np\n",
    "from array import *\n",
    "import matplotlib.pyplot as plt\n",
    "import math\n",
    "from scipy.optimize import brentq\n",
    "import time"
   ]
  },
  {
   "cell_type": "code",
   "execution_count": 3,
   "metadata": {},
   "outputs": [],
   "source": [
    "########################################################################################\n",
    "# Calculate the sensitivity/expected sensitivity\n",
    "########################################################################################\n",
    "\n",
    "# Number of target Argon nuclei and livetime of DUNE\n",
    "NA_dune = 4 * 1.5e32             # 40 kton\n",
    "livetime_dune = 10.0 * 3.154e7   # 10 years\n",
    "sigma2 = 2**2 # 2 sigma -> 95% C.L.\n",
    "# 1st column is g_Z', should always be 1 in evt. generation\n",
    "# lighter DM mass\n",
    "MB = np.array([5,10,20,40])\n",
    "# gamma\n",
    "gam = np.array([1.1, 1.5, 10])\n",
    "# Heavy DM mass = Lighter DM mass * gamma\n",
    "MA = np.reshape(np.multiply.outer(gam,MB),12)\n",
    "#Flux and BDM-Ar are obtained from the phemenological paper, https://arxiv.org/pdf/1912.05558.pdf\n",
    "#  flux\n",
    "flux = np.array([634.1,303.6,117.7,36.38,468.3,203.4,72.48,19.10,28.12,7.521,2.455,0.431])\n",
    "#  argon cross section\n",
    "sigAr = np.array([9.057*1e-30, 1.063*1e-29, 1.220*1e-29, 1.278*1e-29, 4.978*1e-29, 5.609*1e-29, 5.965*1e-29, 6.152*1e-29, 1.270*1e-27, 1.377*1e-27, 1.437*1e-27, 1.470*1e-27])"
   ]
  },
  {
   "cell_type": "code",
   "execution_count": 4,
   "metadata": {},
   "outputs": [],
   "source": [
    "\n",
    "###############################################################\n",
    "#     PAPER --- EFFICIENCY AND BACKGROUND EVENTS              #\n",
    "###############################################################\n",
    "\n",
    "# Nbr. of expected events in nu experiments at g_Z' = 1:\n",
    "# Number of target nuclei * livetime * flux * cross-section on Argon * efficiency\n",
    "\n",
    "#  DUNE efficiency\n",
    "effDUNE_paper = np.array([0.4917, 0.4788, 0.4973, 0.5027, 0.6532, 0.6660, 0.6752, 0.6694, 0.7635,  0.7673,  0.8366,  0.8512])\n",
    " # expected bkg events after cuts at DUNE\n",
    "bkgDUNE_paper = np.array([10006, 10006,  10634,  11300,  11894,  11894,  11894,  11894,  3723, 3075, 3075, 3075])\n",
    "\n",
    "evtsDUNE_paper = NA_dune * livetime_dune * flux * sigAr * effDUNE_paper\n",
    "\n",
    "\n",
    "###############################################################\n",
    "###############################################################\n",
    "\n",
    "\n",
    "# Redefining variables for the Paper. Data from Table III, https://arxiv.org/pdf/1912.05558.pdf\n",
    "\n",
    "evtsLimDUNE = []\n",
    "for bkg in bkgDUNE_paper:\n",
    "    def sigmasq(s):\n",
    "        return 2.0 * ((s + bkg) * np.log(1.0 + s / bkg) - s) - sigma2\n",
    "        # Solve for the number of signal events required for sensitivity\n",
    "        # We need to give a search range: take sqrt(N_b)/10 to sqrt(N_b) * 10\n",
    "        # For any \"reasonable\" number of background events this should be enough\n",
    "\n",
    "    evtsLimDUNE.append(brentq(sigmasq, np.sqrt(bkg)/10.0, np.sqrt(bkg * 10.0)))\n",
    "\n",
    "PaperDLv = np.sqrt(evtsLimDUNE / evtsDUNE_paper)"
   ]
  },
  {
   "cell_type": "code",
   "execution_count": 5,
   "metadata": {},
   "outputs": [
    {
     "name": "stdout",
     "output_type": "stream",
     "text": [
      "[6.12877527e-07 8.28514808e-07 1.23738536e-06 2.19586539e-06\n",
      " 2.75543123e-07 3.90073889e-07 6.29320177e-07 1.21236806e-06\n",
      " 1.54204697e-07 2.72382985e-07 4.46945198e-07 1.04557268e-06]\n"
     ]
    }
   ],
   "source": [
    "print(PaperDLv)"
   ]
  }
 ],
 "metadata": {
  "kernelspec": {
   "display_name": "Python 3",
   "language": "python",
   "name": "python3"
  },
  "language_info": {
   "codemirror_mode": {
    "name": "ipython",
    "version": 3
   },
   "file_extension": ".py",
   "mimetype": "text/x-python",
   "name": "python",
   "nbconvert_exporter": "python",
   "pygments_lexer": "ipython3",
   "version": "3.12.3"
  }
 },
 "nbformat": 4,
 "nbformat_minor": 2
}
