{
 "cells": [
  {
   "cell_type": "code",
   "execution_count": 2,
   "id": "97862e6d",
   "metadata": {},
   "outputs": [],
   "source": [
    "import numpy as np"
   ]
  },
  {
   "cell_type": "code",
   "execution_count": 3,
   "id": "4f1ca06c",
   "metadata": {},
   "outputs": [],
   "source": [
    "#txt files with signal strength, expected background and signal efficiency for each nuclear configuration model\n",
    "infiles = ['Eff_Bkg_hA_BR.txt', 'Eff_Bkg_hA_ESF.txt', 'Eff_Bkg_hA_LFG.txt', 'Eff_Bkg_hN_BR.txt', 'Eff_Bkg_hN_ESF.txt', 'Eff_Bkg_hN_LFG.txt']\n",
    "\n",
    "#function to read the list of txt files\n",
    "def readtxt(infile_array):\n",
    "    listloaded = [] \n",
    "    for infile in infile_array:\n",
    "        listloaded.append(np.loadtxt(infile, usecols=(3,4), skiprows=1))\n",
    "    return listloaded"
   ]
  },
  {
   "cell_type": "code",
   "execution_count": 4,
   "id": "f1073e68",
   "metadata": {},
   "outputs": [],
   "source": [
    "optimals = readtxt(infiles) "
   ]
  },
  {
   "cell_type": "code",
   "execution_count": 7,
   "id": "04231675",
   "metadata": {},
   "outputs": [
    {
     "data": {
      "text/plain": [
       "1784"
      ]
     },
     "execution_count": 7,
     "metadata": {},
     "output_type": "execute_result"
    }
   ],
   "source": [
    "round(optimals[0][0][1])"
   ]
  },
  {
   "cell_type": "code",
   "execution_count": 18,
   "id": "f452e9c0",
   "metadata": {},
   "outputs": [
    {
     "data": {
      "text/plain": [
       "array([[6.100000e-02, 1.783763e+03],\n",
       "       [6.900000e-02, 1.721606e+03],\n",
       "       [7.300000e-02, 1.869873e+03],\n",
       "       [7.900000e-02, 1.992066e+03],\n",
       "       [5.410000e-01, 8.883339e+03],\n",
       "       [5.550000e-01, 8.883339e+03],\n",
       "       [5.650000e-01, 8.883339e+03],\n",
       "       [5.680000e-01, 8.884249e+03],\n",
       "       [3.760000e-01, 2.982641e+03],\n",
       "       [4.080000e-01, 3.310103e+03],\n",
       "       [3.770000e-01, 1.712206e+03],\n",
       "       [3.740000e-01, 2.653055e+03]])"
      ]
     },
     "execution_count": 18,
     "metadata": {},
     "output_type": "execute_result"
    }
   ],
   "source": [
    "optimals[0][:][:]"
   ]
  },
  {
   "cell_type": "markdown",
   "id": "aaeecbe7",
   "metadata": {},
   "source": [
    "## 1: (b_cv - b_i)/b_cv ,   2: (eff_cv - eff_i)/eff_cv ##"
   ]
  },
  {
   "cell_type": "code",
   "execution_count": 20,
   "id": "b2c9da16",
   "metadata": {},
   "outputs": [
    {
     "data": {
      "text/plain": [
       "array([[-0.6557377 , -0.36436231],\n",
       "       [-0.50724638, -0.36459736],\n",
       "       [-0.54794521, -0.37051928],\n",
       "       [-0.48101266, -0.36685532],\n",
       "       [-0.05360444, -0.16894143],\n",
       "       [-0.05765766, -0.16894143],\n",
       "       [-0.04424779, -0.16894143],\n",
       "       [-0.04225352, -0.16898356],\n",
       "       [-0.00265957, -0.0751304 ],\n",
       "       [-0.00245098, -0.07177511],\n",
       "       [ 0.21485411, -0.05784468],\n",
       "       [-0.0026738 , -0.07204374]])"
      ]
     },
     "execution_count": 20,
     "metadata": {},
     "output_type": "execute_result"
    }
   ],
   "source": [
    "(optimals[0][:][:]-optimals[1][:][:])/optimals[0][:][:]"
   ]
  },
  {
   "cell_type": "code",
   "execution_count": 21,
   "id": "d3dc9d0c",
   "metadata": {},
   "outputs": [
    {
     "data": {
      "text/plain": [
       "array([[1.0100000e-01, 2.4336990e+03],\n",
       "       [1.0400000e-01, 2.3492990e+03],\n",
       "       [1.1300000e-01, 2.5626970e+03],\n",
       "       [1.1700000e-01, 2.7228660e+03],\n",
       "       [5.7000000e-01, 1.0384103e+04],\n",
       "       [5.8700000e-01, 1.0384103e+04],\n",
       "       [5.9000000e-01, 1.0384103e+04],\n",
       "       [5.9200000e-01, 1.0385541e+04],\n",
       "       [3.7700000e-01, 3.2067280e+03],\n",
       "       [4.0900000e-01, 3.5476860e+03],\n",
       "       [2.9600000e-01, 1.8112480e+03],\n",
       "       [3.7500000e-01, 2.8441910e+03]])"
      ]
     },
     "execution_count": 21,
     "metadata": {},
     "output_type": "execute_result"
    }
   ],
   "source": [
    "(optimals[0][:][:]-optimals[2][:][:])/optimals[0][:][:]"
   ]
  },
  {
   "cell_type": "code",
   "execution_count": 22,
   "id": "aa8f0d94",
   "metadata": {},
   "outputs": [
    {
     "data": {
      "text/plain": [
       "array([[ 0.44262295, -0.05366856],\n",
       "       [ 0.42028986, -0.05458566],\n",
       "       [ 0.39726027, -0.05000928],\n",
       "       [ 0.39240506, -0.05027243],\n",
       "       [-0.10536044, -0.03010884],\n",
       "       [-0.0990991 , -0.03010884],\n",
       "       [-0.09380531, -0.03010884],\n",
       "       [-0.09683099, -0.03000332],\n",
       "       [ 0.00797872, -0.01753982],\n",
       "       [ 0.0245098 , -0.01915409],\n",
       "       [ 0.22281167,  0.01078317],\n",
       "       [ 0.00802139, -0.00918828]])"
      ]
     },
     "execution_count": 22,
     "metadata": {},
     "output_type": "execute_result"
    }
   ],
   "source": [
    "(optimals[0][:][:]-optimals[3][:][:])/optimals[0][:][:]"
   ]
  },
  {
   "cell_type": "code",
   "execution_count": 23,
   "id": "b6f97c81",
   "metadata": {},
   "outputs": [
    {
     "data": {
      "text/plain": [
       "array([[-0.06557377, -0.46096707],\n",
       "       [ 0.04347826, -0.46658469],\n",
       "       [ 0.05479452, -0.45917129],\n",
       "       [ 0.06329114, -0.47001154],\n",
       "       [-0.22920518, -0.2441036 ],\n",
       "       [-0.21621622, -0.2441036 ],\n",
       "       [-0.19823009, -0.2441036 ],\n",
       "       [-0.19366197, -0.24422526],\n",
       "       [ 0.01595745, -0.08369093],\n",
       "       [ 0.01470588, -0.08456051],\n",
       "       [ 0.23607427, -0.095961  ],\n",
       "       [ 0.01069519, -0.08152677]])"
      ]
     },
     "execution_count": 23,
     "metadata": {},
     "output_type": "execute_result"
    }
   ],
   "source": [
    "(optimals[0][:][:]-optimals[4][:][:])/optimals[0][:][:]"
   ]
  },
  {
   "cell_type": "code",
   "execution_count": 24,
   "id": "8d6ad6c5",
   "metadata": {},
   "outputs": [
    {
     "data": {
      "text/plain": [
       "array([[ 0.55737705,  0.11605466],\n",
       "       [ 0.53623188,  0.12007277],\n",
       "       [ 0.52054795,  0.11418904],\n",
       "       [ 0.51898734,  0.11339785],\n",
       "       [-0.10351201,  0.0309566 ],\n",
       "       [-0.1045045 ,  0.0309566 ],\n",
       "       [-0.09557522,  0.0309566 ],\n",
       "       [-0.09330986,  0.03105586],\n",
       "       [ 0.0106383 ,  0.0231057 ],\n",
       "       [ 0.01470588,  0.02326212],\n",
       "       [ 0.22811671,  0.06174783],\n",
       "       [ 0.00802139,  0.02429727]])"
      ]
     },
     "execution_count": 24,
     "metadata": {},
     "output_type": "execute_result"
    }
   ],
   "source": [
    "(optimals[0][:][:]-optimals[5][:][:])/optimals[0][:][:]"
   ]
  },
  {
   "cell_type": "code",
   "execution_count": 30,
   "id": "3c1e5338",
   "metadata": {},
   "outputs": [
    {
     "data": {
      "text/plain": [
       "array([[2.700000e-02, 1.576749e+03],\n",
       "       [3.200000e-02, 1.514888e+03],\n",
       "       [3.500000e-02, 1.656354e+03],\n",
       "       [3.800000e-02, 1.766170e+03],\n",
       "       [5.970000e-01, 8.608341e+03],\n",
       "       [6.130000e-01, 8.608341e+03],\n",
       "       [6.190000e-01, 8.608341e+03],\n",
       "       [6.210000e-01, 8.608341e+03],\n",
       "       [3.720000e-01, 2.913725e+03],\n",
       "       [4.020000e-01, 3.233103e+03],\n",
       "       [2.910000e-01, 1.606481e+03],\n",
       "       [3.710000e-01, 2.588593e+03]])"
      ]
     },
     "execution_count": 30,
     "metadata": {},
     "output_type": "execute_result"
    }
   ],
   "source": [
    "(1-((optimals[0][:][:]-optimals[5][:][:])/optimals[0][:][:]))*optimals[0][:][:]"
   ]
  },
  {
   "cell_type": "code",
   "execution_count": 32,
   "id": "e205a184",
   "metadata": {},
   "outputs": [
    {
     "data": {
      "text/plain": [
       "array([[2.700000e-02, 1.576749e+03],\n",
       "       [3.200000e-02, 1.514888e+03],\n",
       "       [3.500000e-02, 1.656354e+03],\n",
       "       [3.800000e-02, 1.766170e+03],\n",
       "       [5.970000e-01, 8.608341e+03],\n",
       "       [6.130000e-01, 8.608341e+03],\n",
       "       [6.190000e-01, 8.608341e+03],\n",
       "       [6.210000e-01, 8.608341e+03],\n",
       "       [3.720000e-01, 2.913725e+03],\n",
       "       [4.020000e-01, 3.233103e+03],\n",
       "       [2.910000e-01, 1.606481e+03],\n",
       "       [3.710000e-01, 2.588593e+03]])"
      ]
     },
     "execution_count": 32,
     "metadata": {},
     "output_type": "execute_result"
    }
   ],
   "source": [
    "optimals[5][:][:]"
   ]
  },
  {
   "cell_type": "code",
   "execution_count": 27,
   "id": "d24540d8",
   "metadata": {},
   "outputs": [
    {
     "data": {
      "text/plain": [
       "array([0.55737705, 0.11605466])"
      ]
     },
     "execution_count": 27,
     "metadata": {},
     "output_type": "execute_result"
    }
   ],
   "source": [
    "(optimals[0][0][:]-optimals[5][0][:])/optimals[0][0][:]"
   ]
  },
  {
   "cell_type": "code",
   "execution_count": 28,
   "id": "8edf5d53",
   "metadata": {},
   "outputs": [
    {
     "data": {
      "text/plain": [
       "array([6.100000e-02, 1.783763e+03])"
      ]
     },
     "execution_count": 28,
     "metadata": {},
     "output_type": "execute_result"
    }
   ],
   "source": [
    "optimals[0][0][:]"
   ]
  },
  {
   "cell_type": "code",
   "execution_count": 42,
   "id": "55640a44",
   "metadata": {},
   "outputs": [
    {
     "data": {
      "text/plain": [
       "array([[1.6557377 , 1.36436231],\n",
       "       [1.50724638, 1.36459736],\n",
       "       [1.54794521, 1.37051928],\n",
       "       [1.48101266, 1.36685532],\n",
       "       [1.05360444, 1.16894143],\n",
       "       [1.05765766, 1.16894143],\n",
       "       [1.04424779, 1.16894143],\n",
       "       [1.04225352, 1.16898356],\n",
       "       [1.00265957, 1.0751304 ],\n",
       "       [1.00245098, 1.07177511],\n",
       "       [0.78514589, 1.05784468],\n",
       "       [1.0026738 , 1.07204374]])"
      ]
     },
     "execution_count": 42,
     "metadata": {},
     "output_type": "execute_result"
    }
   ],
   "source": [
    "1-((optimals[0][:][:]-optimals[1][:][:])/optimals[0][:][:])"
   ]
  },
  {
   "cell_type": "code",
   "execution_count": null,
   "id": "e93a270e",
   "metadata": {},
   "outputs": [],
   "source": []
  }
 ],
 "metadata": {
  "kernelspec": {
   "display_name": "Python 3 (ipykernel)",
   "language": "python",
   "name": "python3"
  },
  "language_info": {
   "codemirror_mode": {
    "name": "ipython",
    "version": 3
   },
   "file_extension": ".py",
   "mimetype": "text/x-python",
   "name": "python",
   "nbconvert_exporter": "python",
   "pygments_lexer": "ipython3",
   "version": "3.12.3"
  }
 },
 "nbformat": 4,
 "nbformat_minor": 5
}
