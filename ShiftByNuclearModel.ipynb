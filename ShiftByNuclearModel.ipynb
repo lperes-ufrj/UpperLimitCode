{
 "cells": [
  {
   "cell_type": "code",
   "execution_count": 1,
   "id": "97862e6d",
   "metadata": {},
   "outputs": [],
   "source": [
    "import numpy as np"
   ]
  },
  {
   "cell_type": "code",
   "execution_count": 2,
   "id": "4f1ca06c",
   "metadata": {},
   "outputs": [],
   "source": [
    "#Sample labels\n",
    "labelsamples= [\"b1p1_m05\",\"b1p1_m10\",\"b1p1_m20\",\"b1p1_m40\",\"b1p5_m05\",\"b1p5_m10\",\"b1p5_m20\",\"b1p5_m40\",\"b10_m05\",\"b10_m10\",\"b10_m20\",\"b10_m40\"]\n",
    "\n",
    "#txt files with signal strength, expected background and signal efficiency for each nuclear configuration model\n",
    "infiles = ['Eff_Bkg_hA_BR.txt', 'Eff_Bkg_hA_ESF.txt', 'Eff_Bkg_hA_LFG.txt', 'Eff_Bkg_hN_BR.txt', 'Eff_Bkg_hN_ESF.txt', 'Eff_Bkg_hN_LFG.txt']\n",
    "\n",
    "#function to read the list of txt files\n",
    "def readtxt(infile_array):\n",
    "    listloaded = [] \n",
    "    for infile in infile_array:\n",
    "        listloaded.append(np.loadtxt(infile, usecols=(3,4), skiprows=1))\n",
    "    return listloaded"
   ]
  },
  {
   "cell_type": "code",
   "execution_count": 3,
   "id": "f1073e68",
   "metadata": {},
   "outputs": [],
   "source": [
    "optimals = readtxt(infiles) "
   ]
  },
  {
   "cell_type": "markdown",
   "id": "aaeecbe7",
   "metadata": {},
   "source": [
    "## 1: (b_cv - b_i)/b_cv ,   2: (eff_cv - eff_i)/eff_cv ##"
   ]
  },
  {
   "cell_type": "code",
   "execution_count": 20,
   "id": "b2c9da16",
   "metadata": {},
   "outputs": [
    {
     "data": {
      "text/plain": [
       "array([[-0.6557377 , -0.36436231],\n",
       "       [-0.50724638, -0.36459736],\n",
       "       [-0.54794521, -0.37051928],\n",
       "       [-0.48101266, -0.36685532],\n",
       "       [-0.05360444, -0.16894143],\n",
       "       [-0.05765766, -0.16894143],\n",
       "       [-0.04424779, -0.16894143],\n",
       "       [-0.04225352, -0.16898356],\n",
       "       [-0.00265957, -0.0751304 ],\n",
       "       [-0.00245098, -0.07177511],\n",
       "       [ 0.21485411, -0.05784468],\n",
       "       [-0.0026738 , -0.07204374]])"
      ]
     },
     "execution_count": 20,
     "metadata": {},
     "output_type": "execute_result"
    }
   ],
   "source": [
    "(optimals[0][:][:]-optimals[1][:][:])/optimals[0][:][:]"
   ]
  },
  {
   "cell_type": "code",
   "execution_count": 30,
   "id": "3c1e5338",
   "metadata": {},
   "outputs": [
    {
     "data": {
      "text/plain": [
       "array([[2.700000e-02, 1.576749e+03],\n",
       "       [3.200000e-02, 1.514888e+03],\n",
       "       [3.500000e-02, 1.656354e+03],\n",
       "       [3.800000e-02, 1.766170e+03],\n",
       "       [5.970000e-01, 8.608341e+03],\n",
       "       [6.130000e-01, 8.608341e+03],\n",
       "       [6.190000e-01, 8.608341e+03],\n",
       "       [6.210000e-01, 8.608341e+03],\n",
       "       [3.720000e-01, 2.913725e+03],\n",
       "       [4.020000e-01, 3.233103e+03],\n",
       "       [2.910000e-01, 1.606481e+03],\n",
       "       [3.710000e-01, 2.588593e+03]])"
      ]
     },
     "execution_count": 30,
     "metadata": {},
     "output_type": "execute_result"
    }
   ],
   "source": [
    "(1-((optimals[0][:][:]-optimals[5][:][:])/optimals[0][:][:]))*optimals[0][:][:]"
   ]
  },
  {
   "cell_type": "code",
   "execution_count": 4,
   "id": "55640a44",
   "metadata": {},
   "outputs": [
    {
     "data": {
      "text/plain": [
       "array([[0.8852459 , 0.89653726],\n",
       "       [0.88405797, 0.89246959],\n",
       "       [0.91780822, 0.89980656],\n",
       "       [0.88607595, 0.9007824 ],\n",
       "       [1.00924214, 0.98040951],\n",
       "       [1.01621622, 0.98040951],\n",
       "       [1.00530973, 0.98040951],\n",
       "       [1.00880282, 0.98036368],\n",
       "       [1.00265957, 0.96824459],\n",
       "       [0.99019608, 0.96991816],\n",
       "       [0.13793103, 0.97290455],\n",
       "       [1.00802139, 0.96793583]])"
      ]
     },
     "execution_count": 4,
     "metadata": {},
     "output_type": "execute_result"
    }
   ],
   "source": [
    "1-((optimals[0][:][:]-optimals[2][:][:])/optimals[0][:][:])"
   ]
  },
  {
   "cell_type": "code",
   "execution_count": 4,
   "id": "e93a270e",
   "metadata": {},
   "outputs": [
    {
     "data": {
      "text/plain": [
       "array([[0.55737705, 1.05366856],\n",
       "       [0.57971014, 1.05458566],\n",
       "       [0.60273973, 1.05000928],\n",
       "       [0.60759494, 1.05027243],\n",
       "       [1.10536044, 1.03010884],\n",
       "       [1.0990991 , 1.03010884],\n",
       "       [1.09380531, 1.03010884],\n",
       "       [1.09683099, 1.03000332],\n",
       "       [0.99202128, 1.01753982],\n",
       "       [0.9754902 , 1.01915409],\n",
       "       [0.77718833, 0.98921683],\n",
       "       [0.99197861, 1.00918828]])"
      ]
     },
     "execution_count": 4,
     "metadata": {},
     "output_type": "execute_result"
    }
   ],
   "source": [
    "optimals[3][:][:]/optimals[0][:][:]"
   ]
  },
  {
   "cell_type": "code",
   "execution_count": null,
   "id": "0c7f8cd5",
   "metadata": {},
   "outputs": [],
   "source": []
  }
 ],
 "metadata": {
  "kernelspec": {
   "display_name": "Python 3 (ipykernel)",
   "language": "python",
   "name": "python3"
  },
  "language_info": {
   "codemirror_mode": {
    "name": "ipython",
    "version": 3
   },
   "file_extension": ".py",
   "mimetype": "text/x-python",
   "name": "python",
   "nbconvert_exporter": "python",
   "pygments_lexer": "ipython3",
   "version": "3.12.3"
  }
 },
 "nbformat": 4,
 "nbformat_minor": 5
}
