{
 "cells": [
  {
   "cell_type": "code",
   "execution_count": 1,
   "id": "97862e6d",
   "metadata": {},
   "outputs": [],
   "source": [
    "import numpy as np\n",
    "import pandas as pd"
   ]
  },
  {
   "cell_type": "code",
   "execution_count": 2,
   "id": "4f1ca06c",
   "metadata": {},
   "outputs": [],
   "source": [
    "#Sample labels\n",
    "labelsamples= [\"b1p1_m05\",\"b1p1_m10\",\"b1p1_m20\",\"b1p1_m40\",\"b1p5_m05\",\"b1p5_m10\",\"b1p5_m20\",\"b1p5_m40\",\"b10_m05\",\"b10_m10\",\"b10_m20\",\"b10_m40\"]\n",
    "\n",
    "#txt files with signal strength, expected background and signal efficiency for each nuclear configuration model\n",
    "infiles = ['Eff_Bkg_hA_BR.txt', 'Eff_Bkg_hA_ESF.txt', 'Eff_Bkg_hA_LFG.txt', 'Eff_Bkg_hN_BR.txt', 'Eff_Bkg_hN_ESF.txt', 'Eff_Bkg_hN_LFG.txt']\n",
    "\n",
    "#function to read the list of txt files\n",
    "def readtxt(infile_array):\n",
    "    listloaded = [] \n",
    "    for infile in infile_array:\n",
    "        listloaded.append(np.loadtxt(infile, usecols=(3,4), skiprows=1))\n",
    "    return listloaded"
   ]
  },
  {
   "cell_type": "code",
   "execution_count": 3,
   "id": "f1073e68",
   "metadata": {},
   "outputs": [],
   "source": [
    "optimals = readtxt(infiles) "
   ]
  },
  {
   "cell_type": "markdown",
   "id": "aaeecbe7",
   "metadata": {},
   "source": [
    "## 1: (b_cv - b_i)/b_cv ,   2: (eff_cv - eff_i)/eff_cv ##"
   ]
  },
  {
   "cell_type": "code",
   "execution_count": 5,
   "id": "0c7f8cd5",
   "metadata": {},
   "outputs": [],
   "source": [
    "def return_shift(value):\n",
    "    if value < 1:\n",
    "        return -1+value\n",
    "    if value > 1:\n",
    "        return value-1"
   ]
  },
  {
   "cell_type": "code",
   "execution_count": 6,
   "id": "d34b035c",
   "metadata": {},
   "outputs": [],
   "source": [
    "optimals = np.array(optimals)"
   ]
  },
  {
   "cell_type": "code",
   "execution_count": 7,
   "id": "782b86b1",
   "metadata": {},
   "outputs": [],
   "source": [
    "# Vectorize the function\n",
    "vectorized_nuclear_shift = np.vectorize(return_shift)"
   ]
  },
  {
   "cell_type": "code",
   "execution_count": 8,
   "id": "662831a5",
   "metadata": {},
   "outputs": [],
   "source": [
    "nc_hA_LFG = vectorized_nuclear_shift(optimals[1][:][:]/optimals[0][:][:])"
   ]
  },
  {
   "cell_type": "code",
   "execution_count": 21,
   "id": "b967b45d",
   "metadata": {},
   "outputs": [
    {
     "data": {
      "text/plain": [
       "array([[ 0.6557377 ,  0.36436231],\n",
       "       [ 0.50724638,  0.36459736],\n",
       "       [ 0.54794521,  0.37051928],\n",
       "       [ 0.48101266,  0.36685532],\n",
       "       [ 0.05360444,  0.16894143],\n",
       "       [ 0.05765766,  0.16894143],\n",
       "       [ 0.04424779,  0.16894143],\n",
       "       [ 0.04225352,  0.16898356],\n",
       "       [ 0.00265957,  0.0751304 ],\n",
       "       [ 0.00245098,  0.07177511],\n",
       "       [-0.21485411,  0.05784468],\n",
       "       [ 0.0026738 ,  0.07204374]])"
      ]
     },
     "execution_count": 21,
     "metadata": {},
     "output_type": "execute_result"
    }
   ],
   "source": [
    "nc_hA_LFG"
   ]
  },
  {
   "cell_type": "code",
   "execution_count": 24,
   "id": "3ea61aff",
   "metadata": {},
   "outputs": [
    {
     "data": {
      "text/plain": [
       "array([ 65.57377049,  50.72463768,  54.79452055,  48.10126582,\n",
       "         5.36044362,   5.76576577,   4.42477876,   4.22535211,\n",
       "         0.26595745,   0.24509804, -21.48541114,   0.26737968])"
      ]
     },
     "execution_count": 24,
     "metadata": {},
     "output_type": "execute_result"
    }
   ],
   "source": [
    "nc_hA_LFG[:,0]*100"
   ]
  },
  {
   "cell_type": "code",
   "execution_count": 16,
   "id": "17501c93",
   "metadata": {},
   "outputs": [],
   "source": [
    "dataset_hA_LFG = pd.DataFrame({'Efficiency Shift': nc_hA_LFG[:, 0]*100, 'Background Shift': nc_hA_LFG[:, 1]*100})"
   ]
  },
  {
   "cell_type": "code",
   "execution_count": 17,
   "id": "37832407",
   "metadata": {},
   "outputs": [
    {
     "data": {
      "text/html": [
       "<div>\n",
       "<style scoped>\n",
       "    .dataframe tbody tr th:only-of-type {\n",
       "        vertical-align: middle;\n",
       "    }\n",
       "\n",
       "    .dataframe tbody tr th {\n",
       "        vertical-align: top;\n",
       "    }\n",
       "\n",
       "    .dataframe thead th {\n",
       "        text-align: right;\n",
       "    }\n",
       "</style>\n",
       "<table border=\"1\" class=\"dataframe\">\n",
       "  <thead>\n",
       "    <tr style=\"text-align: right;\">\n",
       "      <th></th>\n",
       "      <th>Efficiency Shift</th>\n",
       "      <th>Background Shift</th>\n",
       "    </tr>\n",
       "  </thead>\n",
       "  <tbody>\n",
       "    <tr>\n",
       "      <th>0</th>\n",
       "      <td>65.573770</td>\n",
       "      <td>36.436231</td>\n",
       "    </tr>\n",
       "    <tr>\n",
       "      <th>1</th>\n",
       "      <td>50.724638</td>\n",
       "      <td>36.459736</td>\n",
       "    </tr>\n",
       "    <tr>\n",
       "      <th>2</th>\n",
       "      <td>54.794521</td>\n",
       "      <td>37.051928</td>\n",
       "    </tr>\n",
       "    <tr>\n",
       "      <th>3</th>\n",
       "      <td>48.101266</td>\n",
       "      <td>36.685532</td>\n",
       "    </tr>\n",
       "    <tr>\n",
       "      <th>4</th>\n",
       "      <td>5.360444</td>\n",
       "      <td>16.894143</td>\n",
       "    </tr>\n",
       "    <tr>\n",
       "      <th>5</th>\n",
       "      <td>5.765766</td>\n",
       "      <td>16.894143</td>\n",
       "    </tr>\n",
       "    <tr>\n",
       "      <th>6</th>\n",
       "      <td>4.424779</td>\n",
       "      <td>16.894143</td>\n",
       "    </tr>\n",
       "    <tr>\n",
       "      <th>7</th>\n",
       "      <td>4.225352</td>\n",
       "      <td>16.898356</td>\n",
       "    </tr>\n",
       "    <tr>\n",
       "      <th>8</th>\n",
       "      <td>0.265957</td>\n",
       "      <td>7.513040</td>\n",
       "    </tr>\n",
       "    <tr>\n",
       "      <th>9</th>\n",
       "      <td>0.245098</td>\n",
       "      <td>7.177511</td>\n",
       "    </tr>\n",
       "    <tr>\n",
       "      <th>10</th>\n",
       "      <td>-21.485411</td>\n",
       "      <td>5.784468</td>\n",
       "    </tr>\n",
       "    <tr>\n",
       "      <th>11</th>\n",
       "      <td>0.267380</td>\n",
       "      <td>7.204374</td>\n",
       "    </tr>\n",
       "  </tbody>\n",
       "</table>\n",
       "</div>"
      ],
      "text/plain": [
       "    Efficiency Shift  Background Shift\n",
       "0          65.573770         36.436231\n",
       "1          50.724638         36.459736\n",
       "2          54.794521         37.051928\n",
       "3          48.101266         36.685532\n",
       "4           5.360444         16.894143\n",
       "5           5.765766         16.894143\n",
       "6           4.424779         16.894143\n",
       "7           4.225352         16.898356\n",
       "8           0.265957          7.513040\n",
       "9           0.245098          7.177511\n",
       "10        -21.485411          5.784468\n",
       "11          0.267380          7.204374"
      ]
     },
     "execution_count": 17,
     "metadata": {},
     "output_type": "execute_result"
    }
   ],
   "source": [
    "dataset_hA_LFG"
   ]
  },
  {
   "cell_type": "code",
   "execution_count": 18,
   "id": "5e35b054",
   "metadata": {},
   "outputs": [
    {
     "name": "stdout",
     "output_type": "stream",
     "text": [
      "0     65.573770\n",
      "1     50.724638\n",
      "2     54.794521\n",
      "3     48.101266\n",
      "4      5.360444\n",
      "5      5.765766\n",
      "6      4.424779\n",
      "7      4.225352\n",
      "8      0.265957\n",
      "9      0.245098\n",
      "10   -21.485411\n",
      "11     0.267380\n",
      "Name: Efficiency Shift, dtype: float64\n"
     ]
    }
   ],
   "source": [
    "print(dataset_hA_LFG[dataset_hA_LFG.columns[0]]) "
   ]
  }
 ],
 "metadata": {
  "kernelspec": {
   "display_name": "Python 3 (ipykernel)",
   "language": "python",
   "name": "python3"
  },
  "language_info": {
   "codemirror_mode": {
    "name": "ipython",
    "version": 3
   },
   "file_extension": ".py",
   "mimetype": "text/x-python",
   "name": "python",
   "nbconvert_exporter": "python",
   "pygments_lexer": "ipython3",
   "version": "3.12.3"
  }
 },
 "nbformat": 4,
 "nbformat_minor": 5
}
